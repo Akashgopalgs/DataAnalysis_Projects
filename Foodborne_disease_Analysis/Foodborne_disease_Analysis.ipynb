{
 "cells": [
  {
   "cell_type": "markdown",
   "id": "df590ab6",
   "metadata": {},
   "source": [
    "# Foodborne disease Analysis"
   ]
  },
  {
   "cell_type": "code",
   "execution_count": null,
   "id": "d8cc1fd7",
   "metadata": {},
   "outputs": [],
   "source": [
    "import pandas as pd\n",
    "import matplotlib.pyplot as plt\n",
    "import seaborn as sns"
   ]
  },
  {
   "cell_type": "code",
   "execution_count": 2,
   "id": "b031b562",
   "metadata": {},
   "outputs": [
    {
     "data": {
      "text/html": [
       "<div>\n",
       "<style scoped>\n",
       "    .dataframe tbody tr th:only-of-type {\n",
       "        vertical-align: middle;\n",
       "    }\n",
       "\n",
       "    .dataframe tbody tr th {\n",
       "        vertical-align: top;\n",
       "    }\n",
       "\n",
       "    .dataframe thead th {\n",
       "        text-align: right;\n",
       "    }\n",
       "</style>\n",
       "<table border=\"1\" class=\"dataframe\">\n",
       "  <thead>\n",
       "    <tr style=\"text-align: right;\">\n",
       "      <th></th>\n",
       "      <th>Year</th>\n",
       "      <th>Month</th>\n",
       "      <th>State</th>\n",
       "      <th>Location</th>\n",
       "      <th>Food</th>\n",
       "      <th>Ingredient</th>\n",
       "      <th>Species</th>\n",
       "      <th>Serotype/Genotype</th>\n",
       "      <th>Status</th>\n",
       "      <th>Illnesses</th>\n",
       "      <th>Hospitalizations</th>\n",
       "      <th>Fatalities</th>\n",
       "    </tr>\n",
       "  </thead>\n",
       "  <tbody>\n",
       "    <tr>\n",
       "      <th>0</th>\n",
       "      <td>1998</td>\n",
       "      <td>January</td>\n",
       "      <td>California</td>\n",
       "      <td>Restaurant</td>\n",
       "      <td>NaN</td>\n",
       "      <td>NaN</td>\n",
       "      <td>NaN</td>\n",
       "      <td>NaN</td>\n",
       "      <td>NaN</td>\n",
       "      <td>20</td>\n",
       "      <td>0.0</td>\n",
       "      <td>0.0</td>\n",
       "    </tr>\n",
       "    <tr>\n",
       "      <th>1</th>\n",
       "      <td>1998</td>\n",
       "      <td>January</td>\n",
       "      <td>California</td>\n",
       "      <td>NaN</td>\n",
       "      <td>Custard</td>\n",
       "      <td>NaN</td>\n",
       "      <td>NaN</td>\n",
       "      <td>NaN</td>\n",
       "      <td>NaN</td>\n",
       "      <td>112</td>\n",
       "      <td>0.0</td>\n",
       "      <td>0.0</td>\n",
       "    </tr>\n",
       "    <tr>\n",
       "      <th>2</th>\n",
       "      <td>1998</td>\n",
       "      <td>January</td>\n",
       "      <td>California</td>\n",
       "      <td>Restaurant</td>\n",
       "      <td>NaN</td>\n",
       "      <td>NaN</td>\n",
       "      <td>NaN</td>\n",
       "      <td>NaN</td>\n",
       "      <td>NaN</td>\n",
       "      <td>35</td>\n",
       "      <td>0.0</td>\n",
       "      <td>0.0</td>\n",
       "    </tr>\n",
       "    <tr>\n",
       "      <th>3</th>\n",
       "      <td>1998</td>\n",
       "      <td>January</td>\n",
       "      <td>California</td>\n",
       "      <td>Restaurant</td>\n",
       "      <td>Fish, Ahi</td>\n",
       "      <td>NaN</td>\n",
       "      <td>Scombroid toxin</td>\n",
       "      <td>NaN</td>\n",
       "      <td>Confirmed</td>\n",
       "      <td>4</td>\n",
       "      <td>0.0</td>\n",
       "      <td>0.0</td>\n",
       "    </tr>\n",
       "    <tr>\n",
       "      <th>4</th>\n",
       "      <td>1998</td>\n",
       "      <td>January</td>\n",
       "      <td>California</td>\n",
       "      <td>Private Home/Residence</td>\n",
       "      <td>Lasagna, Unspecified; Eggs, Other</td>\n",
       "      <td>NaN</td>\n",
       "      <td>Salmonella enterica</td>\n",
       "      <td>Enteritidis</td>\n",
       "      <td>Confirmed</td>\n",
       "      <td>26</td>\n",
       "      <td>3.0</td>\n",
       "      <td>0.0</td>\n",
       "    </tr>\n",
       "    <tr>\n",
       "      <th>...</th>\n",
       "      <td>...</td>\n",
       "      <td>...</td>\n",
       "      <td>...</td>\n",
       "      <td>...</td>\n",
       "      <td>...</td>\n",
       "      <td>...</td>\n",
       "      <td>...</td>\n",
       "      <td>...</td>\n",
       "      <td>...</td>\n",
       "      <td>...</td>\n",
       "      <td>...</td>\n",
       "      <td>...</td>\n",
       "    </tr>\n",
       "    <tr>\n",
       "      <th>19114</th>\n",
       "      <td>2015</td>\n",
       "      <td>December</td>\n",
       "      <td>Wisconsin</td>\n",
       "      <td>Restaurant</td>\n",
       "      <td>NaN</td>\n",
       "      <td>NaN</td>\n",
       "      <td>Norovirus genogroup II</td>\n",
       "      <td>GII_14</td>\n",
       "      <td>Confirmed</td>\n",
       "      <td>4</td>\n",
       "      <td>0.0</td>\n",
       "      <td>0.0</td>\n",
       "    </tr>\n",
       "    <tr>\n",
       "      <th>19115</th>\n",
       "      <td>2015</td>\n",
       "      <td>December</td>\n",
       "      <td>Wisconsin</td>\n",
       "      <td>Private Home/Residence</td>\n",
       "      <td>Salsa</td>\n",
       "      <td>NaN</td>\n",
       "      <td>Norovirus genogroup II</td>\n",
       "      <td>GII_2</td>\n",
       "      <td>Confirmed</td>\n",
       "      <td>16</td>\n",
       "      <td>0.0</td>\n",
       "      <td>0.0</td>\n",
       "    </tr>\n",
       "    <tr>\n",
       "      <th>19116</th>\n",
       "      <td>2015</td>\n",
       "      <td>December</td>\n",
       "      <td>Wisconsin</td>\n",
       "      <td>Nursing Home/Assisted Living Facility</td>\n",
       "      <td>NaN</td>\n",
       "      <td>NaN</td>\n",
       "      <td>Norovirus genogroup II</td>\n",
       "      <td>GII_17 Kawasaki (2014)</td>\n",
       "      <td>Confirmed</td>\n",
       "      <td>43</td>\n",
       "      <td>3.0</td>\n",
       "      <td>0.0</td>\n",
       "    </tr>\n",
       "    <tr>\n",
       "      <th>19117</th>\n",
       "      <td>2015</td>\n",
       "      <td>December</td>\n",
       "      <td>Wisconsin</td>\n",
       "      <td>Fast Food Restaurant</td>\n",
       "      <td>NaN</td>\n",
       "      <td>NaN</td>\n",
       "      <td>Norovirus genogroup II</td>\n",
       "      <td>GII_2</td>\n",
       "      <td>Confirmed</td>\n",
       "      <td>5</td>\n",
       "      <td>0.0</td>\n",
       "      <td>0.0</td>\n",
       "    </tr>\n",
       "    <tr>\n",
       "      <th>19118</th>\n",
       "      <td>2015</td>\n",
       "      <td>December</td>\n",
       "      <td>Wyoming</td>\n",
       "      <td>NaN</td>\n",
       "      <td>NaN</td>\n",
       "      <td>NaN</td>\n",
       "      <td>NaN</td>\n",
       "      <td>NaN</td>\n",
       "      <td>NaN</td>\n",
       "      <td>3</td>\n",
       "      <td>0.0</td>\n",
       "      <td>0.0</td>\n",
       "    </tr>\n",
       "  </tbody>\n",
       "</table>\n",
       "<p>19119 rows × 12 columns</p>\n",
       "</div>"
      ],
      "text/plain": [
       "       Year     Month       State                               Location  \\\n",
       "0      1998   January  California                             Restaurant   \n",
       "1      1998   January  California                                    NaN   \n",
       "2      1998   January  California                             Restaurant   \n",
       "3      1998   January  California                             Restaurant   \n",
       "4      1998   January  California                 Private Home/Residence   \n",
       "...     ...       ...         ...                                    ...   \n",
       "19114  2015  December   Wisconsin                             Restaurant   \n",
       "19115  2015  December   Wisconsin                 Private Home/Residence   \n",
       "19116  2015  December   Wisconsin  Nursing Home/Assisted Living Facility   \n",
       "19117  2015  December   Wisconsin                   Fast Food Restaurant   \n",
       "19118  2015  December     Wyoming                                    NaN   \n",
       "\n",
       "                                    Food Ingredient                 Species  \\\n",
       "0                                    NaN        NaN                     NaN   \n",
       "1                                Custard        NaN                     NaN   \n",
       "2                                    NaN        NaN                     NaN   \n",
       "3                              Fish, Ahi        NaN         Scombroid toxin   \n",
       "4      Lasagna, Unspecified; Eggs, Other        NaN     Salmonella enterica   \n",
       "...                                  ...        ...                     ...   \n",
       "19114                                NaN        NaN  Norovirus genogroup II   \n",
       "19115                              Salsa        NaN  Norovirus genogroup II   \n",
       "19116                                NaN        NaN  Norovirus genogroup II   \n",
       "19117                                NaN        NaN  Norovirus genogroup II   \n",
       "19118                                NaN        NaN                     NaN   \n",
       "\n",
       "            Serotype/Genotype     Status  Illnesses  Hospitalizations  \\\n",
       "0                         NaN        NaN         20               0.0   \n",
       "1                         NaN        NaN        112               0.0   \n",
       "2                         NaN        NaN         35               0.0   \n",
       "3                         NaN  Confirmed          4               0.0   \n",
       "4                 Enteritidis  Confirmed         26               3.0   \n",
       "...                       ...        ...        ...               ...   \n",
       "19114                  GII_14  Confirmed          4               0.0   \n",
       "19115                   GII_2  Confirmed         16               0.0   \n",
       "19116  GII_17 Kawasaki (2014)  Confirmed         43               3.0   \n",
       "19117                   GII_2  Confirmed          5               0.0   \n",
       "19118                     NaN        NaN          3               0.0   \n",
       "\n",
       "       Fatalities  \n",
       "0             0.0  \n",
       "1             0.0  \n",
       "2             0.0  \n",
       "3             0.0  \n",
       "4             0.0  \n",
       "...           ...  \n",
       "19114         0.0  \n",
       "19115         0.0  \n",
       "19116         0.0  \n",
       "19117         0.0  \n",
       "19118         0.0  \n",
       "\n",
       "[19119 rows x 12 columns]"
      ]
     },
     "execution_count": 2,
     "metadata": {},
     "output_type": "execute_result"
    }
   ],
   "source": [
    "df=pd.read_csv(r\"C:\\Users\\akash\\Documents\\dataset\\kaggle dataset\\Foodborne disease.zip\")\n",
    "df"
   ]
  },
  {
   "cell_type": "code",
   "execution_count": 6,
   "id": "df8c5f07",
   "metadata": {},
   "outputs": [
    {
     "name": "stdout",
     "output_type": "stream",
     "text": [
      "<class 'pandas.core.frame.DataFrame'>\n",
      "RangeIndex: 19119 entries, 0 to 19118\n",
      "Data columns (total 12 columns):\n",
      " #   Column             Non-Null Count  Dtype  \n",
      "---  ------             --------------  -----  \n",
      " 0   Year               19119 non-null  int64  \n",
      " 1   Month              19119 non-null  object \n",
      " 2   State              19119 non-null  object \n",
      " 3   Location           16953 non-null  object \n",
      " 4   Food               10156 non-null  object \n",
      " 5   Ingredient         1876 non-null   object \n",
      " 6   Species            12500 non-null  object \n",
      " 7   Serotype/Genotype  3907 non-null   object \n",
      " 8   Status             12500 non-null  object \n",
      " 9   Illnesses          19119 non-null  int64  \n",
      " 10  Hospitalizations   15494 non-null  float64\n",
      " 11  Fatalities         15518 non-null  float64\n",
      "dtypes: float64(2), int64(2), object(8)\n",
      "memory usage: 1.8+ MB\n"
     ]
    }
   ],
   "source": [
    "df.info()"
   ]
  },
  {
   "cell_type": "code",
   "execution_count": 7,
   "id": "cc3d2100",
   "metadata": {},
   "outputs": [],
   "source": [
    "df.drop(columns=['Ingredient','Serotype/Genotype'],inplace=True)"
   ]
  },
  {
   "cell_type": "code",
   "execution_count": 13,
   "id": "47846167",
   "metadata": {},
   "outputs": [],
   "source": [
    "df['Food']=df['Food'].fillna('')\n",
    "df['Species']=df['Species'].fillna('')\n",
    "df['Status']=df['Status'].fillna('')\n",
    "df['Location']=df['Location'].fillna(df['Location'].mode()[0])\n",
    "df['Hospitalizations']=df['Hospitalizations'].fillna(df['Hospitalizations'].median())\n",
    "df['Fatalities']=df['Fatalities'].fillna(df['Fatalities'].median())"
   ]
  },
  {
   "cell_type": "code",
   "execution_count": 16,
   "id": "e01a1cba",
   "metadata": {},
   "outputs": [
    {
     "data": {
      "text/plain": [
       "Location\n",
       "Restaurant                                                               12614\n",
       "Private Home/Residence                                                    1681\n",
       "Catering Service                                                          1089\n",
       "Banquet Facility                                                           367\n",
       "Fast Food Restaurant                                                       366\n",
       "                                                                         ...  \n",
       "Private Home/Residence; Grocery Store; Child Daycare                         1\n",
       "Restaurant; Private Home/Residence; Catering Service; Fair/Festival          1\n",
       "Restaurant; Private Home/Residence; Grocery Store; Religious Facility        1\n",
       "Child Daycare; Religious Facility                                            1\n",
       "Hotel/Motel                                                                  1\n",
       "Name: count, Length: 161, dtype: int64"
      ]
     },
     "execution_count": 16,
     "metadata": {},
     "output_type": "execute_result"
    }
   ],
   "source": [
    "df['Location'].value_counts()"
   ]
  },
  {
   "cell_type": "code",
   "execution_count": 17,
   "id": "dec9aaa7",
   "metadata": {},
   "outputs": [
    {
     "data": {
      "text/plain": [
       "<Axes: xlabel='Location'>"
      ]
     },
     "execution_count": 17,
     "metadata": {},
     "output_type": "execute_result"
    },
    {
     "data": {
      "image/png": "[encoded data removed]",
      "text/plain": [
       "<Figure size 640x480 with 1 Axes>"
      ]
     },
     "metadata": {},
     "output_type": "display_data"
    }
   ],
   "source": [
    "df['Location'].value_counts().head().plot.bar()"
   ]
  },
  {
   "cell_type": "markdown",
   "id": "d39bdee8",
   "metadata": {},
   "source": [
    "- Large number of people(12614) had food from Restaurant.\n",
    "- some people had food from Private Home/Residence ,Catering Service ,nquet Facility and Fast Food Restaurant other than restaurat.\n",
    "- other few people had food from some different location."
   ]
  },
  {
   "cell_type": "code",
   "execution_count": 18,
   "id": "98ee2444",
   "metadata": {},
   "outputs": [
    {
     "data": {
      "text/plain": [
       "Food\n",
       "                                                      8963\n",
       "Multiple Foods                                         206\n",
       "Oysters, Raw                                           165\n",
       "Ground Beef, Hamburger                                 127\n",
       "Salad, Unspecified                                     118\n",
       "                                                      ... \n",
       "Goat, Other                                              1\n",
       "Chicken, Nuggets/Fingers; Coleslaw; Potato, Mashed       1\n",
       "Sandwich, Club; Potato Salad                             1\n",
       "Milk, 2% Milk Pasteurized                                1\n",
       "Cookies, Chocolate Chip                                  1\n",
       "Name: count, Length: 3128, dtype: int64"
      ]
     },
     "execution_count": 18,
     "metadata": {},
     "output_type": "execute_result"
    }
   ],
   "source": [
    "df['Food'].value_counts()"
   ]
  },
  {
   "cell_type": "markdown",
   "id": "739dbe05",
   "metadata": {},
   "source": [
    "- In common , people ate Multiple Foods,Oysters Raw ,Ground Beef Hamburger and Salad Unspecified food than other food items."
   ]
  },
  {
   "cell_type": "code",
   "execution_count": 61,
   "id": "85200a67",
   "metadata": {},
   "outputs": [
    {
     "data": {
      "text/html": [
       "<div>\n",
       "<style scoped>\n",
       "    .dataframe tbody tr th:only-of-type {\n",
       "        vertical-align: middle;\n",
       "    }\n",
       "\n",
       "    .dataframe tbody tr th {\n",
       "        vertical-align: top;\n",
       "    }\n",
       "\n",
       "    .dataframe thead th {\n",
       "        text-align: right;\n",
       "    }\n",
       "</style>\n",
       "<table border=\"1\" class=\"dataframe\">\n",
       "  <thead>\n",
       "    <tr style=\"text-align: right;\">\n",
       "      <th></th>\n",
       "      <th>sum</th>\n",
       "    </tr>\n",
       "    <tr>\n",
       "      <th>Location</th>\n",
       "      <th></th>\n",
       "    </tr>\n",
       "  </thead>\n",
       "  <tbody>\n",
       "    <tr>\n",
       "      <th>Restaurant</th>\n",
       "      <td>190337</td>\n",
       "    </tr>\n",
       "    <tr>\n",
       "      <th>Catering Service</th>\n",
       "      <td>36044</td>\n",
       "    </tr>\n",
       "    <tr>\n",
       "      <th>Private Home/Residence</th>\n",
       "      <td>22564</td>\n",
       "    </tr>\n",
       "    <tr>\n",
       "      <th>Prison/Jail</th>\n",
       "      <td>20608</td>\n",
       "    </tr>\n",
       "    <tr>\n",
       "      <th>School/College/University</th>\n",
       "      <td>19910</td>\n",
       "    </tr>\n",
       "    <tr>\n",
       "      <th>...</th>\n",
       "      <td>...</td>\n",
       "    </tr>\n",
       "    <tr>\n",
       "      <th>Fast Food Restaurant; Hospital</th>\n",
       "      <td>7</td>\n",
       "    </tr>\n",
       "    <tr>\n",
       "      <th>Other (Describe In Remarks); Unknown</th>\n",
       "      <td>5</td>\n",
       "    </tr>\n",
       "    <tr>\n",
       "      <th>Restaurant; Office/Indoor Workplace; School/College/University</th>\n",
       "      <td>4</td>\n",
       "    </tr>\n",
       "    <tr>\n",
       "      <th>Fast Food Restaurant; Restaurant; Office/Indoor Workplace</th>\n",
       "      <td>3</td>\n",
       "    </tr>\n",
       "    <tr>\n",
       "      <th>Ship/Boat</th>\n",
       "      <td>3</td>\n",
       "    </tr>\n",
       "  </tbody>\n",
       "</table>\n",
       "<p>161 rows × 1 columns</p>\n",
       "</div>"
      ],
      "text/plain": [
       "                                                       sum\n",
       "Location                                                  \n",
       "Restaurant                                          190337\n",
       "Catering Service                                     36044\n",
       "Private Home/Residence                               22564\n",
       "Prison/Jail                                          20608\n",
       "School/College/University                            19910\n",
       "...                                                    ...\n",
       "Fast Food Restaurant; Hospital                           7\n",
       "Other (Describe In Remarks); Unknown                     5\n",
       "Restaurant; Office/Indoor Workplace; School/Col...       4\n",
       "Fast Food Restaurant; Restaurant; Office/Indoor...       3\n",
       "Ship/Boat                                                3\n",
       "\n",
       "[161 rows x 1 columns]"
      ]
     },
     "execution_count": 61,
     "metadata": {},
     "output_type": "execute_result"
    }
   ],
   "source": [
    "ill = df.groupby('Location')['Illnesses'].agg(['sum'])\n",
    "loc_ill=ill.sort_values(by='sum',ascending=False)\n",
    "loc_ill"
   ]
  },
  {
   "cell_type": "code",
   "execution_count": 62,
   "id": "ca240d34",
   "metadata": {},
   "outputs": [
    {
     "data": {
      "text/plain": [
       "<Axes: xlabel='Location'>"
      ]
     },
     "execution_count": 62,
     "metadata": {},
     "output_type": "execute_result"
    },
    {
     "data": {
      "image/png": "[encoded data removed]",
      "text/plain": [
       "<Figure size 640x480 with 1 Axes>"
      ]
     },
     "metadata": {},
     "output_type": "display_data"
    }
   ],
   "source": [
    "loc_ill.head().plot.bar(color='skyblue')"
   ]
  },
  {
   "cell_type": "markdown",
   "id": "382ab712",
   "metadata": {},
   "source": [
    "- From Restaurant's food ,Large number of people(190337) get unwell.\n",
    "- Food quality of Restaurant is very bad, that may be because huge amount of people have illness from their food.\n",
    "- Catering Service have second most worst foods.\n",
    "- Private Home/Residence(22564),Prison/Jail(20608) and School/College/University(19910) are the others in top 5"
   ]
  },
  {
   "cell_type": "code",
   "execution_count": 76,
   "id": "f4da58a0",
   "metadata": {},
   "outputs": [
    {
     "name": "stdout",
     "output_type": "stream",
     "text": [
      "50.956145540798495 % \n"
     ]
    }
   ],
   "source": [
    "ilsum=df['Illnesses'].sum()\n",
    "res = loc_ill[loc_ill.index == 'Restaurant'].get('sum').get('Restaurant')\n",
    "res_prcnt = (res/ilsum)*100\n",
    "print(f'{res_prcnt} % ')"
   ]
  },
  {
   "cell_type": "markdown",
   "id": "ab64a365",
   "metadata": {},
   "source": [
    "- 50.95% of total illness person were have food from restaurant."
   ]
  },
  {
   "cell_type": "code",
   "execution_count": 63,
   "id": "93068a86",
   "metadata": {},
   "outputs": [
    {
     "data": {
      "text/html": [
       "<div>\n",
       "<style scoped>\n",
       "    .dataframe tbody tr th:only-of-type {\n",
       "        vertical-align: middle;\n",
       "    }\n",
       "\n",
       "    .dataframe tbody tr th {\n",
       "        vertical-align: top;\n",
       "    }\n",
       "\n",
       "    .dataframe thead th {\n",
       "        text-align: right;\n",
       "    }\n",
       "</style>\n",
       "<table border=\"1\" class=\"dataframe\">\n",
       "  <thead>\n",
       "    <tr style=\"text-align: right;\">\n",
       "      <th></th>\n",
       "      <th>sum</th>\n",
       "    </tr>\n",
       "    <tr>\n",
       "      <th>Location</th>\n",
       "      <th></th>\n",
       "    </tr>\n",
       "  </thead>\n",
       "  <tbody>\n",
       "    <tr>\n",
       "      <th>Restaurant</th>\n",
       "      <td>7794.0</td>\n",
       "    </tr>\n",
       "    <tr>\n",
       "      <th>Private Home/Residence</th>\n",
       "      <td>2526.0</td>\n",
       "    </tr>\n",
       "    <tr>\n",
       "      <th>Catering Service</th>\n",
       "      <td>412.0</td>\n",
       "    </tr>\n",
       "    <tr>\n",
       "      <th>Unknown</th>\n",
       "      <td>389.0</td>\n",
       "    </tr>\n",
       "    <tr>\n",
       "      <th>Fast Food Restaurant</th>\n",
       "      <td>329.0</td>\n",
       "    </tr>\n",
       "    <tr>\n",
       "      <th>...</th>\n",
       "      <td>...</td>\n",
       "    </tr>\n",
       "    <tr>\n",
       "      <th>Private Home/Residence; Catering Service; Prison/Jail; Religious Facility</th>\n",
       "      <td>0.0</td>\n",
       "    </tr>\n",
       "    <tr>\n",
       "      <th>Private Home/Residence; Catering Service; Office/Indoor Workplace</th>\n",
       "      <td>0.0</td>\n",
       "    </tr>\n",
       "    <tr>\n",
       "      <th>Private Home/Residence; Banquet Facility; Catering Service; Grocery Store</th>\n",
       "      <td>0.0</td>\n",
       "    </tr>\n",
       "    <tr>\n",
       "      <th>Private Home/Residence; Banquet Facility; Catering Service; Fair/Festival; Grocery Store</th>\n",
       "      <td>0.0</td>\n",
       "    </tr>\n",
       "    <tr>\n",
       "      <th>Private Home/Residence; Child Daycare</th>\n",
       "      <td>0.0</td>\n",
       "    </tr>\n",
       "  </tbody>\n",
       "</table>\n",
       "<p>161 rows × 1 columns</p>\n",
       "</div>"
      ],
      "text/plain": [
       "                                                       sum\n",
       "Location                                                  \n",
       "Restaurant                                          7794.0\n",
       "Private Home/Residence                              2526.0\n",
       "Catering Service                                     412.0\n",
       "Unknown                                              389.0\n",
       "Fast Food Restaurant                                 329.0\n",
       "...                                                    ...\n",
       "Private Home/Residence; Catering Service; Priso...     0.0\n",
       "Private Home/Residence; Catering Service; Offic...     0.0\n",
       "Private Home/Residence; Banquet Facility; Cater...     0.0\n",
       "Private Home/Residence; Banquet Facility; Cater...     0.0\n",
       "Private Home/Residence; Child Daycare                  0.0\n",
       "\n",
       "[161 rows x 1 columns]"
      ]
     },
     "execution_count": 63,
     "metadata": {},
     "output_type": "execute_result"
    }
   ],
   "source": [
    "hsp=df.groupby('Location')['Hospitalizations'].agg(['sum'])\n",
    "loc_hsp=hsp.sort_values(by='sum',ascending=False)\n",
    "loc_hsp"
   ]
  },
  {
   "cell_type": "code",
   "execution_count": 64,
   "id": "6677a09a",
   "metadata": {},
   "outputs": [
    {
     "data": {
      "text/plain": [
       "<Axes: xlabel='Location'>"
      ]
     },
     "execution_count": 64,
     "metadata": {},
     "output_type": "execute_result"
    },
    {
     "data": {
      "image/png": "[encoded data removed]",
      "text/plain": [
       "<Figure size 640x480 with 1 Axes>"
      ]
     },
     "metadata": {},
     "output_type": "display_data"
    }
   ],
   "source": [
    "loc_hsp.head().plot.bar(color='skyblue')"
   ]
  },
  {
   "cell_type": "markdown",
   "id": "1d6d8d53",
   "metadata": {},
   "source": [
    "- More people get Hospitalized had food from Restaurant.\n",
    "- Restaurant's food quality is really bad, 190337 people were unwell and 7794.0 people get hospitalized had food from Restaurant.\n",
    "- 2526 people from Private Home/Residence and 412 people from Catering Service had food and get hospitalized."
   ]
  },
  {
   "cell_type": "code",
   "execution_count": 83,
   "id": "f8825af4",
   "metadata": {},
   "outputs": [
    {
     "name": "stdout",
     "output_type": "stream",
     "text": [
      "53.08902663306314 % \n"
     ]
    }
   ],
   "source": [
    "hosp_sum=df['Hospitalizations'].sum()\n",
    "res_hosp = loc_hsp[loc_hsp.index == 'Restaurant'].get('sum').get('Restaurant')\n",
    "res_hosp_prcnt = (res_hosp/hosp_sum)*100\n",
    "print(f'{res_hosp_prcnt} % ')"
   ]
  },
  {
   "cell_type": "markdown",
   "id": "d3469285",
   "metadata": {},
   "source": [
    "- 53.089 % of total hospitalized people had food from restaurant.\n"
   ]
  },
  {
   "cell_type": "code",
   "execution_count": 90,
   "id": "59ac7ce5",
   "metadata": {},
   "outputs": [
    {
     "data": {
      "text/plain": [
       "Location\n",
       "Restaurant                                                                  160.0\n",
       "Private Home/Residence                                                       82.0\n",
       "Nursing Home/Assisted Living Facility                                        44.0\n",
       "Grocery Store                                                                11.0\n",
       "Hospital                                                                      6.0\n",
       "                                                                            ...  \n",
       "Office/Indoor Workplace; Prison/Jail                                          0.0\n",
       "Office/Indoor Workplace; Nursing Home/Assisted Living Facility; Hospital      0.0\n",
       "Office/Indoor Workplace; Hospital                                             0.0\n",
       "Office/Indoor Workplace; Camp                                                 0.0\n",
       "Private Home/Residence; Child Daycare                                         0.0\n",
       "Name: Fatalities, Length: 161, dtype: float64"
      ]
     },
     "execution_count": 90,
     "metadata": {},
     "output_type": "execute_result"
    }
   ],
   "source": [
    "fat = df.groupby('Location')['Fatalities'].sum().sort_values(ascending=False)\n",
    "fat"
   ]
  },
  {
   "cell_type": "code",
   "execution_count": 89,
   "id": "b750208f",
   "metadata": {},
   "outputs": [
    {
     "data": {
      "text/plain": [
       "<Axes: xlabel='Location'>"
      ]
     },
     "execution_count": 89,
     "metadata": {},
     "output_type": "execute_result"
    },
    {
     "data": {
      "image/png": "[encoded data removed]",
      "text/plain": [
       "<Figure size 640x480 with 1 Axes>"
      ]
     },
     "metadata": {},
     "output_type": "display_data"
    }
   ],
   "source": [
    "df.groupby('Location')['Fatalities'].sum().sort_values(ascending=False).head().plot.bar()"
   ]
  },
  {
   "cell_type": "markdown",
   "id": "b1ffbbc5",
   "metadata": {},
   "source": [
    "- MOst of food Fatalities are from restaurant food.\n",
    "- 160 people lost their life because of ate restaurant food\n",
    "- 82 people ate and died food from Private Home/Residence \n",
    "- Nursing Home/Assisted Living Facility and Grocery Store are the other food location that leads the death of some people from their food."
   ]
  },
  {
   "cell_type": "code",
   "execution_count": 104,
   "id": "372b3721",
   "metadata": {},
   "outputs": [
    {
     "name": "stdout",
     "output_type": "stream",
     "text": [
      "47.47774480712167 %\n"
     ]
    }
   ],
   "source": [
    "fat_ = df.groupby('Location')['Fatalities'].agg(['sum'])\n",
    "fat1= fat_.sort_values(by='sum',ascending =False)\n",
    "res_fat = fat1[fat1.index == 'Restaurant'].get('sum').get('Restaurant')\n",
    "\n",
    "fat_sum= df['Fatalities'].sum()\n",
    "res_fat_prcent = (res_fat/fat_sum)*100\n",
    "print(f'{res_fat_prcent} %')"
   ]
  },
  {
   "cell_type": "markdown",
   "id": "ce7dfed4",
   "metadata": {},
   "source": [
    "- 47.478 % of Fatalities people were had food from restaurant."
   ]
  },
  {
   "cell_type": "code",
   "execution_count": 108,
   "id": "b7946f2b",
   "metadata": {},
   "outputs": [
    {
     "data": {
      "text/plain": [
       "Species\n",
       "                                                                     6619\n",
       "Norovirus genogroup I                                                2744\n",
       "Salmonella enterica                                                  2303\n",
       "Norovirus genogroup II                                               1424\n",
       "Norovirus unknown                                                     790\n",
       "                                                                     ... \n",
       "Bacillus other                                                          1\n",
       "Bacillus cereus; Clostridium perfringens; Bacterium                     1\n",
       "Staphylococcus other                                                    1\n",
       "Salmonella enterica; Clostridium perfringens; Salmonella enterica       1\n",
       "Shigella sonnei; Campylobacter jejuni                                   1\n",
       "Name: count, Length: 202, dtype: int64"
      ]
     },
     "execution_count": 108,
     "metadata": {},
     "output_type": "execute_result"
    }
   ],
   "source": [
    "df['Species'].value_counts()"
   ]
  },
  {
   "cell_type": "code",
   "execution_count": 111,
   "id": "8c3afe99",
   "metadata": {},
   "outputs": [
    {
     "data": {
      "text/plain": [
       "<Axes: xlabel='Species'>"
      ]
     },
     "execution_count": 111,
     "metadata": {},
     "output_type": "execute_result"
    },
    {
     "data": {
      "image/png": "[encoded data removed]",
      "text/plain": [
       "<Figure size 640x480 with 1 Axes>"
      ]
     },
     "metadata": {},
     "output_type": "display_data"
    }
   ],
   "source": [
    "df['Species'].value_counts().iloc[1:].head(20).plot.bar()"
   ]
  },
  {
   "cell_type": "markdown",
   "id": "21df1089",
   "metadata": {},
   "source": [
    "- Norovirus genogroup I are the most common species of micro oraganisum that cases disease.\n",
    "- Salmonella enterica are the second common ,Norovirus genogroup II  are third most common species of micro oraganisum."
   ]
  },
  {
   "cell_type": "markdown",
   "id": "aeed4f8d",
   "metadata": {},
   "source": [
    "- A very small amount of norovirus can make you sick.It's a highly contagious virus that causes vomiting and diarrhea in millions of people every year.\n",
    "- Salmonella infection imposes a heavy burden on global public health.\n",
    "- May be that was the reason why the number of death was increased."
   ]
  },
  {
   "cell_type": "code",
   "execution_count": 112,
   "id": "a8190780",
   "metadata": {},
   "outputs": [
    {
     "data": {
      "text/plain": [
       "Status\n",
       "Confirmed                                                                                                                                        7909\n",
       "                                                                                                                                                 6619\n",
       "Suspected                                                                                                                                        4068\n",
       "Suspected; Suspected                                                                                                                              310\n",
       "Confirmed; Confirmed                                                                                                                              133\n",
       "Confirmed; Suspected                                                                                                                               32\n",
       "Confirmed; Confirmed; Confirmed                                                                                                                    17\n",
       "Suspected; Confirmed                                                                                                                                7\n",
       "Confirmed; Suspected; Suspected                                                                                                                     4\n",
       "Suspected; Suspected; Suspected                                                                                                                     3\n",
       "Confirmed; Confirmed; Suspected                                                                                                                     3\n",
       "Confirmed; Suspected; Confirmed                                                                                                                     2\n",
       "Confirmed; Confirmed; Confirmed; Confirmed; Confirmed; Confirmed                                                                                    2\n",
       "Suspected; Confirmed; Confirmed                                                                                                                     1\n",
       "Confirmed; Suspected; Confirmed; Confirmed; Confirmed; Confirmed; Confirmed                                                                         1\n",
       "Confirmed; Confirmed; Confirmed; Confirmed; Suspected                                                                                               1\n",
       "Confirmed; Confirmed; Confirmed; Confirmed; Confirmed; Suspected; Suspected; Suspected; Suspected; Suspected; Suspected; Suspected; Suspected       1\n",
       "Confirmed; Confirmed; Suspected; Confirmed                                                                                                          1\n",
       "Suspected; Suspected; Confirmed; Suspected                                                                                                          1\n",
       "Confirmed; Confirmed; Suspected; Suspected                                                                                                          1\n",
       "Suspected; Suspected; Suspected; Suspected                                                                                                          1\n",
       "Suspected; Suspected; Suspected; Suspected; Suspected                                                                                               1\n",
       "Suspected; Suspected; Confirmed; Suspected; Suspected; Confirmed                                                                                    1\n",
       "Name: count, dtype: int64"
      ]
     },
     "execution_count": 112,
     "metadata": {},
     "output_type": "execute_result"
    }
   ],
   "source": [
    "df['Status'].value_counts()"
   ]
  },
  {
   "cell_type": "markdown",
   "id": "14824a75",
   "metadata": {},
   "source": [
    "- Most of the illness was confirmed,that was a Foodborne disease\n",
    "- 7909 people's Foodborne disease was Confirmed"
   ]
  },
  {
   "cell_type": "code",
   "execution_count": 113,
   "id": "58bfbc8d",
   "metadata": {},
   "outputs": [
    {
     "data": {
      "text/html": [
       "<div>\n",
       "<style scoped>\n",
       "    .dataframe tbody tr th:only-of-type {\n",
       "        vertical-align: middle;\n",
       "    }\n",
       "\n",
       "    .dataframe tbody tr th {\n",
       "        vertical-align: top;\n",
       "    }\n",
       "\n",
       "    .dataframe thead th {\n",
       "        text-align: right;\n",
       "    }\n",
       "</style>\n",
       "<table border=\"1\" class=\"dataframe\">\n",
       "  <thead>\n",
       "    <tr style=\"text-align: right;\">\n",
       "      <th></th>\n",
       "      <th>sum</th>\n",
       "    </tr>\n",
       "    <tr>\n",
       "      <th>Year</th>\n",
       "      <th></th>\n",
       "    </tr>\n",
       "  </thead>\n",
       "  <tbody>\n",
       "    <tr>\n",
       "      <th>1998</th>\n",
       "      <td>33.0</td>\n",
       "    </tr>\n",
       "    <tr>\n",
       "      <th>1999</th>\n",
       "      <td>10.0</td>\n",
       "    </tr>\n",
       "    <tr>\n",
       "      <th>2000</th>\n",
       "      <td>22.0</td>\n",
       "    </tr>\n",
       "    <tr>\n",
       "      <th>2001</th>\n",
       "      <td>11.0</td>\n",
       "    </tr>\n",
       "    <tr>\n",
       "      <th>2002</th>\n",
       "      <td>14.0</td>\n",
       "    </tr>\n",
       "    <tr>\n",
       "      <th>2003</th>\n",
       "      <td>24.0</td>\n",
       "    </tr>\n",
       "    <tr>\n",
       "      <th>2004</th>\n",
       "      <td>22.0</td>\n",
       "    </tr>\n",
       "    <tr>\n",
       "      <th>2005</th>\n",
       "      <td>8.0</td>\n",
       "    </tr>\n",
       "    <tr>\n",
       "      <th>2006</th>\n",
       "      <td>10.0</td>\n",
       "    </tr>\n",
       "    <tr>\n",
       "      <th>2007</th>\n",
       "      <td>18.0</td>\n",
       "    </tr>\n",
       "    <tr>\n",
       "      <th>2008</th>\n",
       "      <td>22.0</td>\n",
       "    </tr>\n",
       "    <tr>\n",
       "      <th>2009</th>\n",
       "      <td>7.0</td>\n",
       "    </tr>\n",
       "    <tr>\n",
       "      <th>2010</th>\n",
       "      <td>20.0</td>\n",
       "    </tr>\n",
       "    <tr>\n",
       "      <th>2011</th>\n",
       "      <td>45.0</td>\n",
       "    </tr>\n",
       "    <tr>\n",
       "      <th>2012</th>\n",
       "      <td>20.0</td>\n",
       "    </tr>\n",
       "    <tr>\n",
       "      <th>2013</th>\n",
       "      <td>14.0</td>\n",
       "    </tr>\n",
       "    <tr>\n",
       "      <th>2014</th>\n",
       "      <td>23.0</td>\n",
       "    </tr>\n",
       "    <tr>\n",
       "      <th>2015</th>\n",
       "      <td>14.0</td>\n",
       "    </tr>\n",
       "  </tbody>\n",
       "</table>\n",
       "</div>"
      ],
      "text/plain": [
       "       sum\n",
       "Year      \n",
       "1998  33.0\n",
       "1999  10.0\n",
       "2000  22.0\n",
       "2001  11.0\n",
       "2002  14.0\n",
       "2003  24.0\n",
       "2004  22.0\n",
       "2005   8.0\n",
       "2006  10.0\n",
       "2007  18.0\n",
       "2008  22.0\n",
       "2009   7.0\n",
       "2010  20.0\n",
       "2011  45.0\n",
       "2012  20.0\n",
       "2013  14.0\n",
       "2014  23.0\n",
       "2015  14.0"
      ]
     },
     "execution_count": 113,
     "metadata": {},
     "output_type": "execute_result"
    }
   ],
   "source": [
    "df.groupby('Year')['Fatalities'].agg(['sum'])"
   ]
  },
  {
   "cell_type": "code",
   "execution_count": 114,
   "id": "65c9591c",
   "metadata": {},
   "outputs": [
    {
     "data": {
      "text/plain": [
       "<Axes: xlabel='Year'>"
      ]
     },
     "execution_count": 114,
     "metadata": {},
     "output_type": "execute_result"
    },
    {
     "data": {
      "image/png": "[encoded data removed]",
      "text/plain": [
       "<Figure size 640x480 with 1 Axes>"
      ]
     },
     "metadata": {},
     "output_type": "display_data"
    }
   ],
   "source": [
    "df.groupby('Year')['Fatalities'].agg(['sum']).plot.bar()"
   ]
  },
  {
   "cell_type": "markdown",
   "id": "c21cba12",
   "metadata": {},
   "source": [
    "- Most Fatalities(40+) was reported in 2011\n",
    "- Less Fatalities was reported in 2009 when compared to others."
   ]
  },
  {
   "cell_type": "markdown",
   "id": "d2337fa5",
   "metadata": {},
   "source": [
    "# Conclusion"
   ]
  },
  {
   "cell_type": "markdown",
   "id": "555ace40",
   "metadata": {},
   "source": [
    "\n",
    "The analysis reveals a concerning trend regarding foodborne illnesses, with restaurants being a significant source of outbreaks, accounting for over half of the illnesses and hospitalizations, and nearly half of the fatalities. Poor food quality in restaurants poses a substantial public health risk, leading to a high number of illnesses and severe outcomes. Additionally, norovirus and Salmonella emerge as prevalent pathogens, underscoring the need for stringent food safety measures and hygiene practices to mitigate the spread of these infectious agents."
   ]
  },
  {
   "cell_type": "code",
   "execution_count": null,
   "id": "0279c879",
   "metadata": {},
   "outputs": [],
   "source": []
  }
 ],
 "metadata": {
  "kernelspec": {
   "display_name": "Python 3 (ipykernel)",
   "language": "python",
   "name": "python3"
  },
  "language_info": {
   "codemirror_mode": {
    "name": "ipython",
    "version": 3
   },
   "file_extension": ".py",
   "mimetype": "text/x-python",
   "name": "python",
   "nbconvert_exporter": "python",
   "pygments_lexer": "ipython3",
   "version": "3.11.5"
  }
 },
 "nbformat": 4,
 "nbformat_minor": 5
}
