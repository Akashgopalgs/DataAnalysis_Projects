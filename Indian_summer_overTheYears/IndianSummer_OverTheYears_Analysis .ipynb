{
 "cells": [
  {
   "cell_type": "markdown",
   "id": "1203e9ed",
   "metadata": {},
   "source": [
    "# Indian Summer-Over the Years Analysis"
   ]
  },
  {
   "cell_type": "code",
   "execution_count": null,
   "id": "b3202085",
   "metadata": {},
   "outputs": [],
   "source": [
    "import pandas as pd\n",
    "import matplotlib.pyplot as plt\n",
    "import seaborn as sns"
   ]
  },
  {
   "cell_type": "code",
   "execution_count": 92,
   "id": "d304f449",
   "metadata": {},
   "outputs": [
    {
     "data": {
      "text/html": [
       "<div>\n",
       "<style scoped>\n",
       "    .dataframe tbody tr th:only-of-type {\n",
       "        vertical-align: middle;\n",
       "    }\n",
       "\n",
       "    .dataframe tbody tr th {\n",
       "        vertical-align: top;\n",
       "    }\n",
       "\n",
       "    .dataframe thead th {\n",
       "        text-align: right;\n",
       "    }\n",
       "</style>\n",
       "<table border=\"1\" class=\"dataframe\">\n",
       "  <thead>\n",
       "    <tr style=\"text-align: right;\">\n",
       "      <th></th>\n",
       "      <th>City</th>\n",
       "      <th>Date</th>\n",
       "      <th>tempmax</th>\n",
       "      <th>tempmin</th>\n",
       "      <th>temp</th>\n",
       "      <th>feelslikemax</th>\n",
       "      <th>feelslikemin</th>\n",
       "      <th>feelslike</th>\n",
       "      <th>dew</th>\n",
       "      <th>humidity</th>\n",
       "      <th>windspeed</th>\n",
       "      <th>winddir</th>\n",
       "      <th>sealevelpressure</th>\n",
       "      <th>cloudcover</th>\n",
       "      <th>visibility</th>\n",
       "      <th>sunrise</th>\n",
       "      <th>sunset</th>\n",
       "      <th>moonphase</th>\n",
       "      <th>conditions</th>\n",
       "      <th>description</th>\n",
       "    </tr>\n",
       "  </thead>\n",
       "  <tbody>\n",
       "    <tr>\n",
       "      <th>0</th>\n",
       "      <td>New Delhi</td>\n",
       "      <td>2021-04-01</td>\n",
       "      <td>34.0</td>\n",
       "      <td>19.0</td>\n",
       "      <td>27.1</td>\n",
       "      <td>31.6</td>\n",
       "      <td>19.0</td>\n",
       "      <td>26.1</td>\n",
       "      <td>3.1</td>\n",
       "      <td>22.60</td>\n",
       "      <td>22.8</td>\n",
       "      <td>272.9</td>\n",
       "      <td>1002.8</td>\n",
       "      <td>0.0</td>\n",
       "      <td>3.1</td>\n",
       "      <td>2021-04-01 06:11:12</td>\n",
       "      <td>2021-04-01 18:39:13</td>\n",
       "      <td>0.60</td>\n",
       "      <td>Clear</td>\n",
       "      <td>Clear conditions throughout the day.</td>\n",
       "    </tr>\n",
       "    <tr>\n",
       "      <th>1</th>\n",
       "      <td>New Delhi</td>\n",
       "      <td>2021-04-02</td>\n",
       "      <td>33.9</td>\n",
       "      <td>16.0</td>\n",
       "      <td>25.8</td>\n",
       "      <td>31.8</td>\n",
       "      <td>16.0</td>\n",
       "      <td>24.9</td>\n",
       "      <td>4.5</td>\n",
       "      <td>27.62</td>\n",
       "      <td>12.4</td>\n",
       "      <td>275.0</td>\n",
       "      <td>1006.2</td>\n",
       "      <td>0.0</td>\n",
       "      <td>3.5</td>\n",
       "      <td>2021-04-02 06:10:04</td>\n",
       "      <td>2021-04-02 18:39:46</td>\n",
       "      <td>0.65</td>\n",
       "      <td>Clear</td>\n",
       "      <td>Clear conditions throughout the day.</td>\n",
       "    </tr>\n",
       "    <tr>\n",
       "      <th>2</th>\n",
       "      <td>New Delhi</td>\n",
       "      <td>2021-04-03</td>\n",
       "      <td>34.8</td>\n",
       "      <td>14.6</td>\n",
       "      <td>26.0</td>\n",
       "      <td>32.2</td>\n",
       "      <td>14.6</td>\n",
       "      <td>25.1</td>\n",
       "      <td>1.3</td>\n",
       "      <td>23.18</td>\n",
       "      <td>16.5</td>\n",
       "      <td>127.5</td>\n",
       "      <td>1008.8</td>\n",
       "      <td>1.4</td>\n",
       "      <td>3.5</td>\n",
       "      <td>2021-04-03 06:08:55</td>\n",
       "      <td>2021-04-03 18:40:19</td>\n",
       "      <td>0.70</td>\n",
       "      <td>Clear</td>\n",
       "      <td>Clear conditions throughout the day.</td>\n",
       "    </tr>\n",
       "    <tr>\n",
       "      <th>3</th>\n",
       "      <td>New Delhi</td>\n",
       "      <td>2021-04-04</td>\n",
       "      <td>36.8</td>\n",
       "      <td>16.9</td>\n",
       "      <td>27.1</td>\n",
       "      <td>34.2</td>\n",
       "      <td>16.9</td>\n",
       "      <td>26.0</td>\n",
       "      <td>4.8</td>\n",
       "      <td>28.00</td>\n",
       "      <td>18.3</td>\n",
       "      <td>157.6</td>\n",
       "      <td>1009.5</td>\n",
       "      <td>2.6</td>\n",
       "      <td>3.2</td>\n",
       "      <td>2021-04-04 06:07:47</td>\n",
       "      <td>2021-04-04 18:40:53</td>\n",
       "      <td>0.76</td>\n",
       "      <td>Clear</td>\n",
       "      <td>Clear conditions throughout the day.</td>\n",
       "    </tr>\n",
       "    <tr>\n",
       "      <th>4</th>\n",
       "      <td>New Delhi</td>\n",
       "      <td>2021-04-05</td>\n",
       "      <td>38.8</td>\n",
       "      <td>21.0</td>\n",
       "      <td>29.9</td>\n",
       "      <td>37.1</td>\n",
       "      <td>21.0</td>\n",
       "      <td>28.9</td>\n",
       "      <td>8.1</td>\n",
       "      <td>28.85</td>\n",
       "      <td>13.5</td>\n",
       "      <td>100.4</td>\n",
       "      <td>1007.8</td>\n",
       "      <td>38.4</td>\n",
       "      <td>3.1</td>\n",
       "      <td>2021-04-05 06:06:39</td>\n",
       "      <td>2021-04-05 18:41:26</td>\n",
       "      <td>0.81</td>\n",
       "      <td>Partially cloudy</td>\n",
       "      <td>Partly cloudy throughout the day.</td>\n",
       "    </tr>\n",
       "    <tr>\n",
       "      <th>...</th>\n",
       "      <td>...</td>\n",
       "      <td>...</td>\n",
       "      <td>...</td>\n",
       "      <td>...</td>\n",
       "      <td>...</td>\n",
       "      <td>...</td>\n",
       "      <td>...</td>\n",
       "      <td>...</td>\n",
       "      <td>...</td>\n",
       "      <td>...</td>\n",
       "      <td>...</td>\n",
       "      <td>...</td>\n",
       "      <td>...</td>\n",
       "      <td>...</td>\n",
       "      <td>...</td>\n",
       "      <td>...</td>\n",
       "      <td>...</td>\n",
       "      <td>...</td>\n",
       "      <td>...</td>\n",
       "      <td>...</td>\n",
       "    </tr>\n",
       "    <tr>\n",
       "      <th>13645</th>\n",
       "      <td>Hyderabad</td>\n",
       "      <td>2012-06-26</td>\n",
       "      <td>32.1</td>\n",
       "      <td>22.1</td>\n",
       "      <td>25.8</td>\n",
       "      <td>35.9</td>\n",
       "      <td>22.1</td>\n",
       "      <td>26.7</td>\n",
       "      <td>19.9</td>\n",
       "      <td>71.60</td>\n",
       "      <td>31.3</td>\n",
       "      <td>248.8</td>\n",
       "      <td>NaN</td>\n",
       "      <td>85.3</td>\n",
       "      <td>4.6</td>\n",
       "      <td>2012-06-26 05:44:05</td>\n",
       "      <td>2012-06-26 18:53:55</td>\n",
       "      <td>0.21</td>\n",
       "      <td>Rain, Partially cloudy</td>\n",
       "      <td>Partly cloudy throughout the day with afternoo...</td>\n",
       "    </tr>\n",
       "    <tr>\n",
       "      <th>13646</th>\n",
       "      <td>Hyderabad</td>\n",
       "      <td>2012-06-27</td>\n",
       "      <td>31.8</td>\n",
       "      <td>21.1</td>\n",
       "      <td>25.5</td>\n",
       "      <td>33.3</td>\n",
       "      <td>21.1</td>\n",
       "      <td>26.1</td>\n",
       "      <td>19.0</td>\n",
       "      <td>68.40</td>\n",
       "      <td>29.5</td>\n",
       "      <td>262.4</td>\n",
       "      <td>NaN</td>\n",
       "      <td>67.9</td>\n",
       "      <td>5.5</td>\n",
       "      <td>2012-06-27 05:44:21</td>\n",
       "      <td>2012-06-27 18:54:04</td>\n",
       "      <td>0.27</td>\n",
       "      <td>Rain, Partially cloudy</td>\n",
       "      <td>Partly cloudy throughout the day with rain.</td>\n",
       "    </tr>\n",
       "    <tr>\n",
       "      <th>13647</th>\n",
       "      <td>Hyderabad</td>\n",
       "      <td>2012-06-28</td>\n",
       "      <td>31.8</td>\n",
       "      <td>23.1</td>\n",
       "      <td>26.8</td>\n",
       "      <td>33.3</td>\n",
       "      <td>23.1</td>\n",
       "      <td>27.6</td>\n",
       "      <td>19.1</td>\n",
       "      <td>63.67</td>\n",
       "      <td>31.3</td>\n",
       "      <td>264.5</td>\n",
       "      <td>NaN</td>\n",
       "      <td>69.5</td>\n",
       "      <td>5.6</td>\n",
       "      <td>2012-06-28 05:44:37</td>\n",
       "      <td>2012-06-28 18:54:12</td>\n",
       "      <td>0.33</td>\n",
       "      <td>Partially cloudy</td>\n",
       "      <td>Partly cloudy throughout the day.</td>\n",
       "    </tr>\n",
       "    <tr>\n",
       "      <th>13648</th>\n",
       "      <td>Hyderabad</td>\n",
       "      <td>2012-06-29</td>\n",
       "      <td>32.8</td>\n",
       "      <td>23.1</td>\n",
       "      <td>26.7</td>\n",
       "      <td>35.1</td>\n",
       "      <td>23.1</td>\n",
       "      <td>27.5</td>\n",
       "      <td>19.5</td>\n",
       "      <td>65.54</td>\n",
       "      <td>27.7</td>\n",
       "      <td>265.1</td>\n",
       "      <td>NaN</td>\n",
       "      <td>85.0</td>\n",
       "      <td>5.6</td>\n",
       "      <td>2012-06-29 05:44:54</td>\n",
       "      <td>2012-06-29 18:54:19</td>\n",
       "      <td>0.38</td>\n",
       "      <td>Rain, Partially cloudy</td>\n",
       "      <td>Partly cloudy throughout the day with afternoo...</td>\n",
       "    </tr>\n",
       "    <tr>\n",
       "      <th>13649</th>\n",
       "      <td>Hyderabad</td>\n",
       "      <td>2012-06-30</td>\n",
       "      <td>32.9</td>\n",
       "      <td>23.1</td>\n",
       "      <td>27.7</td>\n",
       "      <td>34.5</td>\n",
       "      <td>23.1</td>\n",
       "      <td>28.6</td>\n",
       "      <td>18.8</td>\n",
       "      <td>59.46</td>\n",
       "      <td>27.7</td>\n",
       "      <td>264.2</td>\n",
       "      <td>NaN</td>\n",
       "      <td>64.9</td>\n",
       "      <td>5.6</td>\n",
       "      <td>2012-06-30 05:45:11</td>\n",
       "      <td>2012-06-30 18:54:25</td>\n",
       "      <td>0.43</td>\n",
       "      <td>Partially cloudy</td>\n",
       "      <td>Partly cloudy throughout the day.</td>\n",
       "    </tr>\n",
       "  </tbody>\n",
       "</table>\n",
       "<p>13650 rows × 20 columns</p>\n",
       "</div>"
      ],
      "text/plain": [
       "            City        Date  tempmax  tempmin  temp  feelslikemax  \\\n",
       "0      New Delhi  2021-04-01     34.0     19.0  27.1          31.6   \n",
       "1      New Delhi  2021-04-02     33.9     16.0  25.8          31.8   \n",
       "2      New Delhi  2021-04-03     34.8     14.6  26.0          32.2   \n",
       "3      New Delhi  2021-04-04     36.8     16.9  27.1          34.2   \n",
       "4      New Delhi  2021-04-05     38.8     21.0  29.9          37.1   \n",
       "...          ...         ...      ...      ...   ...           ...   \n",
       "13645  Hyderabad  2012-06-26     32.1     22.1  25.8          35.9   \n",
       "13646  Hyderabad  2012-06-27     31.8     21.1  25.5          33.3   \n",
       "13647  Hyderabad  2012-06-28     31.8     23.1  26.8          33.3   \n",
       "13648  Hyderabad  2012-06-29     32.8     23.1  26.7          35.1   \n",
       "13649  Hyderabad  2012-06-30     32.9     23.1  27.7          34.5   \n",
       "\n",
       "       feelslikemin  feelslike   dew  humidity  windspeed  winddir  \\\n",
       "0              19.0       26.1   3.1     22.60       22.8    272.9   \n",
       "1              16.0       24.9   4.5     27.62       12.4    275.0   \n",
       "2              14.6       25.1   1.3     23.18       16.5    127.5   \n",
       "3              16.9       26.0   4.8     28.00       18.3    157.6   \n",
       "4              21.0       28.9   8.1     28.85       13.5    100.4   \n",
       "...             ...        ...   ...       ...        ...      ...   \n",
       "13645          22.1       26.7  19.9     71.60       31.3    248.8   \n",
       "13646          21.1       26.1  19.0     68.40       29.5    262.4   \n",
       "13647          23.1       27.6  19.1     63.67       31.3    264.5   \n",
       "13648          23.1       27.5  19.5     65.54       27.7    265.1   \n",
       "13649          23.1       28.6  18.8     59.46       27.7    264.2   \n",
       "\n",
       "       sealevelpressure  cloudcover  visibility              sunrise  \\\n",
       "0                1002.8         0.0         3.1  2021-04-01 06:11:12   \n",
       "1                1006.2         0.0         3.5  2021-04-02 06:10:04   \n",
       "2                1008.8         1.4         3.5  2021-04-03 06:08:55   \n",
       "3                1009.5         2.6         3.2  2021-04-04 06:07:47   \n",
       "4                1007.8        38.4         3.1  2021-04-05 06:06:39   \n",
       "...                 ...         ...         ...                  ...   \n",
       "13645               NaN        85.3         4.6  2012-06-26 05:44:05   \n",
       "13646               NaN        67.9         5.5  2012-06-27 05:44:21   \n",
       "13647               NaN        69.5         5.6  2012-06-28 05:44:37   \n",
       "13648               NaN        85.0         5.6  2012-06-29 05:44:54   \n",
       "13649               NaN        64.9         5.6  2012-06-30 05:45:11   \n",
       "\n",
       "                    sunset  moonphase              conditions  \\\n",
       "0      2021-04-01 18:39:13       0.60                   Clear   \n",
       "1      2021-04-02 18:39:46       0.65                   Clear   \n",
       "2      2021-04-03 18:40:19       0.70                   Clear   \n",
       "3      2021-04-04 18:40:53       0.76                   Clear   \n",
       "4      2021-04-05 18:41:26       0.81        Partially cloudy   \n",
       "...                    ...        ...                     ...   \n",
       "13645  2012-06-26 18:53:55       0.21  Rain, Partially cloudy   \n",
       "13646  2012-06-27 18:54:04       0.27  Rain, Partially cloudy   \n",
       "13647  2012-06-28 18:54:12       0.33        Partially cloudy   \n",
       "13648  2012-06-29 18:54:19       0.38  Rain, Partially cloudy   \n",
       "13649  2012-06-30 18:54:25       0.43        Partially cloudy   \n",
       "\n",
       "                                             description  \n",
       "0                   Clear conditions throughout the day.  \n",
       "1                   Clear conditions throughout the day.  \n",
       "2                   Clear conditions throughout the day.  \n",
       "3                   Clear conditions throughout the day.  \n",
       "4                      Partly cloudy throughout the day.  \n",
       "...                                                  ...  \n",
       "13645  Partly cloudy throughout the day with afternoo...  \n",
       "13646        Partly cloudy throughout the day with rain.  \n",
       "13647                  Partly cloudy throughout the day.  \n",
       "13648  Partly cloudy throughout the day with afternoo...  \n",
       "13649                  Partly cloudy throughout the day.  \n",
       "\n",
       "[13650 rows x 20 columns]"
      ]
     },
     "execution_count": 92,
     "metadata": {},
     "output_type": "execute_result"
    }
   ],
   "source": [
    "df1 = pd.read_csv(r\"C:\\Users\\akash\\Documents\\dataset\\kaggle dataset\\Indian Summers - Over the years.csv\")\n",
    "df1"
   ]
  },
  {
   "cell_type": "code",
   "execution_count": 9,
   "id": "d94a8969",
   "metadata": {},
   "outputs": [
    {
     "name": "stdout",
     "output_type": "stream",
     "text": [
      "<class 'pandas.core.frame.DataFrame'>\n",
      "RangeIndex: 13650 entries, 0 to 13649\n",
      "Data columns (total 20 columns):\n",
      " #   Column            Non-Null Count  Dtype  \n",
      "---  ------            --------------  -----  \n",
      " 0   City              13650 non-null  object \n",
      " 1   Date              13650 non-null  object \n",
      " 2   tempmax           13615 non-null  float64\n",
      " 3   tempmin           13615 non-null  float64\n",
      " 4   temp              13605 non-null  float64\n",
      " 5   feelslikemax      13614 non-null  float64\n",
      " 6   feelslikemin      13614 non-null  float64\n",
      " 7   feelslike         13604 non-null  float64\n",
      " 8   dew               13605 non-null  float64\n",
      " 9   humidity          13605 non-null  float64\n",
      " 10  windspeed         13605 non-null  float64\n",
      " 11  winddir           13600 non-null  float64\n",
      " 12  sealevelpressure  10631 non-null  float64\n",
      " 13  cloudcover        13605 non-null  float64\n",
      " 14  visibility        13605 non-null  float64\n",
      " 15  sunrise           13650 non-null  object \n",
      " 16  sunset            13650 non-null  object \n",
      " 17  moonphase         13650 non-null  float64\n",
      " 18  conditions        13605 non-null  object \n",
      " 19  description       13605 non-null  object \n",
      "dtypes: float64(14), object(6)\n",
      "memory usage: 2.1+ MB\n"
     ]
    }
   ],
   "source": [
    "df1.info()"
   ]
  },
  {
   "cell_type": "code",
   "execution_count": null,
   "id": "daeb576c",
   "metadata": {},
   "outputs": [],
   "source": [
    "df=df.drop(columns=['description','moonphase','cloudcover','winddir','dew','cloudcover','feelslike','sunrise','sunset','visibility'])"
   ]
  },
  {
   "cell_type": "code",
   "execution_count": 16,
   "id": "a25584e4",
   "metadata": {},
   "outputs": [
    {
     "name": "stdout",
     "output_type": "stream",
     "text": [
      "<class 'pandas.core.frame.DataFrame'>\n",
      "RangeIndex: 13650 entries, 0 to 13649\n",
      "Data columns (total 11 columns):\n",
      " #   Column            Non-Null Count  Dtype  \n",
      "---  ------            --------------  -----  \n",
      " 0   City              13650 non-null  object \n",
      " 1   Date              13650 non-null  object \n",
      " 2   tempmax           13615 non-null  float64\n",
      " 3   tempmin           13615 non-null  float64\n",
      " 4   temp              13605 non-null  float64\n",
      " 5   feelslikemax      13614 non-null  float64\n",
      " 6   feelslikemin      13614 non-null  float64\n",
      " 7   humidity          13605 non-null  float64\n",
      " 8   windspeed         13605 non-null  float64\n",
      " 9   sealevelpressure  10631 non-null  float64\n",
      " 10  conditions        13605 non-null  object \n",
      "dtypes: float64(8), object(3)\n",
      "memory usage: 1.1+ MB\n"
     ]
    }
   ],
   "source": [
    "df.info()"
   ]
  },
  {
   "cell_type": "code",
   "execution_count": 21,
   "id": "b4095642",
   "metadata": {},
   "outputs": [],
   "source": [
    "df['tempmin'].fillna(df['tempmin'].median(),inplace=True)\n",
    "df['tempmax'].fillna(df['tempmax'].median(),inplace=True)\n",
    "df['temp'].fillna(df['temp'].median(),inplace=True)\n",
    "df['feelslikemax'].fillna(df['feelslikemax'].median(),inplace=True)\n",
    "df['feelslikemin'].fillna(df['feelslikemin'].median(),inplace=True)\n",
    "df['humidity'].fillna(df['humidity'].median(),inplace=True)\n",
    "df['windspeed'].fillna(df['windspeed'].median(),inplace=True)\n",
    "df['sealevelpressure'].fillna(df['sealevelpressure'].median(),inplace=True)\n",
    "df['conditions'].fillna(df['conditions'].mode(),inplace=True)"
   ]
  },
  {
   "cell_type": "markdown",
   "id": "fe920fab",
   "metadata": {},
   "source": [
    "- fill the missing values using mesures of central tendency"
   ]
  },
  {
   "cell_type": "code",
   "execution_count": 25,
   "id": "d04f75fd",
   "metadata": {},
   "outputs": [
    {
     "data": {
      "text/html": [
       "<div>\n",
       "<style scoped>\n",
       "    .dataframe tbody tr th:only-of-type {\n",
       "        vertical-align: middle;\n",
       "    }\n",
       "\n",
       "    .dataframe tbody tr th {\n",
       "        vertical-align: top;\n",
       "    }\n",
       "\n",
       "    .dataframe thead th {\n",
       "        text-align: right;\n",
       "    }\n",
       "</style>\n",
       "<table border=\"1\" class=\"dataframe\">\n",
       "  <thead>\n",
       "    <tr style=\"text-align: right;\">\n",
       "      <th></th>\n",
       "      <th>City</th>\n",
       "      <th>Date</th>\n",
       "      <th>tempmax</th>\n",
       "      <th>tempmin</th>\n",
       "      <th>temp</th>\n",
       "      <th>feelslikemax</th>\n",
       "      <th>feelslikemin</th>\n",
       "      <th>humidity</th>\n",
       "      <th>windspeed</th>\n",
       "      <th>sealevelpressure</th>\n",
       "      <th>conditions</th>\n",
       "    </tr>\n",
       "  </thead>\n",
       "  <tbody>\n",
       "    <tr>\n",
       "      <th>0</th>\n",
       "      <td>New Delhi</td>\n",
       "      <td>2021-04-01</td>\n",
       "      <td>34.0</td>\n",
       "      <td>19.0</td>\n",
       "      <td>27.1</td>\n",
       "      <td>31.6</td>\n",
       "      <td>19.0</td>\n",
       "      <td>22.60</td>\n",
       "      <td>22.8</td>\n",
       "      <td>1002.8</td>\n",
       "      <td>Clear</td>\n",
       "    </tr>\n",
       "    <tr>\n",
       "      <th>1</th>\n",
       "      <td>New Delhi</td>\n",
       "      <td>2021-04-02</td>\n",
       "      <td>33.9</td>\n",
       "      <td>16.0</td>\n",
       "      <td>25.8</td>\n",
       "      <td>31.8</td>\n",
       "      <td>16.0</td>\n",
       "      <td>27.62</td>\n",
       "      <td>12.4</td>\n",
       "      <td>1006.2</td>\n",
       "      <td>Clear</td>\n",
       "    </tr>\n",
       "    <tr>\n",
       "      <th>2</th>\n",
       "      <td>New Delhi</td>\n",
       "      <td>2021-04-03</td>\n",
       "      <td>34.8</td>\n",
       "      <td>14.6</td>\n",
       "      <td>26.0</td>\n",
       "      <td>32.2</td>\n",
       "      <td>14.6</td>\n",
       "      <td>23.18</td>\n",
       "      <td>16.5</td>\n",
       "      <td>1008.8</td>\n",
       "      <td>Clear</td>\n",
       "    </tr>\n",
       "    <tr>\n",
       "      <th>3</th>\n",
       "      <td>New Delhi</td>\n",
       "      <td>2021-04-04</td>\n",
       "      <td>36.8</td>\n",
       "      <td>16.9</td>\n",
       "      <td>27.1</td>\n",
       "      <td>34.2</td>\n",
       "      <td>16.9</td>\n",
       "      <td>28.00</td>\n",
       "      <td>18.3</td>\n",
       "      <td>1009.5</td>\n",
       "      <td>Clear</td>\n",
       "    </tr>\n",
       "    <tr>\n",
       "      <th>4</th>\n",
       "      <td>New Delhi</td>\n",
       "      <td>2021-04-05</td>\n",
       "      <td>38.8</td>\n",
       "      <td>21.0</td>\n",
       "      <td>29.9</td>\n",
       "      <td>37.1</td>\n",
       "      <td>21.0</td>\n",
       "      <td>28.85</td>\n",
       "      <td>13.5</td>\n",
       "      <td>1007.8</td>\n",
       "      <td>Partially cloudy</td>\n",
       "    </tr>\n",
       "    <tr>\n",
       "      <th>...</th>\n",
       "      <td>...</td>\n",
       "      <td>...</td>\n",
       "      <td>...</td>\n",
       "      <td>...</td>\n",
       "      <td>...</td>\n",
       "      <td>...</td>\n",
       "      <td>...</td>\n",
       "      <td>...</td>\n",
       "      <td>...</td>\n",
       "      <td>...</td>\n",
       "      <td>...</td>\n",
       "    </tr>\n",
       "    <tr>\n",
       "      <th>13645</th>\n",
       "      <td>Hyderabad</td>\n",
       "      <td>2012-06-26</td>\n",
       "      <td>32.1</td>\n",
       "      <td>22.1</td>\n",
       "      <td>25.8</td>\n",
       "      <td>35.9</td>\n",
       "      <td>22.1</td>\n",
       "      <td>71.60</td>\n",
       "      <td>31.3</td>\n",
       "      <td>1004.7</td>\n",
       "      <td>Rain, Partially cloudy</td>\n",
       "    </tr>\n",
       "    <tr>\n",
       "      <th>13646</th>\n",
       "      <td>Hyderabad</td>\n",
       "      <td>2012-06-27</td>\n",
       "      <td>31.8</td>\n",
       "      <td>21.1</td>\n",
       "      <td>25.5</td>\n",
       "      <td>33.3</td>\n",
       "      <td>21.1</td>\n",
       "      <td>68.40</td>\n",
       "      <td>29.5</td>\n",
       "      <td>1004.7</td>\n",
       "      <td>Rain, Partially cloudy</td>\n",
       "    </tr>\n",
       "    <tr>\n",
       "      <th>13647</th>\n",
       "      <td>Hyderabad</td>\n",
       "      <td>2012-06-28</td>\n",
       "      <td>31.8</td>\n",
       "      <td>23.1</td>\n",
       "      <td>26.8</td>\n",
       "      <td>33.3</td>\n",
       "      <td>23.1</td>\n",
       "      <td>63.67</td>\n",
       "      <td>31.3</td>\n",
       "      <td>1004.7</td>\n",
       "      <td>Partially cloudy</td>\n",
       "    </tr>\n",
       "    <tr>\n",
       "      <th>13648</th>\n",
       "      <td>Hyderabad</td>\n",
       "      <td>2012-06-29</td>\n",
       "      <td>32.8</td>\n",
       "      <td>23.1</td>\n",
       "      <td>26.7</td>\n",
       "      <td>35.1</td>\n",
       "      <td>23.1</td>\n",
       "      <td>65.54</td>\n",
       "      <td>27.7</td>\n",
       "      <td>1004.7</td>\n",
       "      <td>Rain, Partially cloudy</td>\n",
       "    </tr>\n",
       "    <tr>\n",
       "      <th>13649</th>\n",
       "      <td>Hyderabad</td>\n",
       "      <td>2012-06-30</td>\n",
       "      <td>32.9</td>\n",
       "      <td>23.1</td>\n",
       "      <td>27.7</td>\n",
       "      <td>34.5</td>\n",
       "      <td>23.1</td>\n",
       "      <td>59.46</td>\n",
       "      <td>27.7</td>\n",
       "      <td>1004.7</td>\n",
       "      <td>Partially cloudy</td>\n",
       "    </tr>\n",
       "  </tbody>\n",
       "</table>\n",
       "<p>13650 rows × 11 columns</p>\n",
       "</div>"
      ],
      "text/plain": [
       "            City        Date  tempmax  tempmin  temp  feelslikemax  \\\n",
       "0      New Delhi  2021-04-01     34.0     19.0  27.1          31.6   \n",
       "1      New Delhi  2021-04-02     33.9     16.0  25.8          31.8   \n",
       "2      New Delhi  2021-04-03     34.8     14.6  26.0          32.2   \n",
       "3      New Delhi  2021-04-04     36.8     16.9  27.1          34.2   \n",
       "4      New Delhi  2021-04-05     38.8     21.0  29.9          37.1   \n",
       "...          ...         ...      ...      ...   ...           ...   \n",
       "13645  Hyderabad  2012-06-26     32.1     22.1  25.8          35.9   \n",
       "13646  Hyderabad  2012-06-27     31.8     21.1  25.5          33.3   \n",
       "13647  Hyderabad  2012-06-28     31.8     23.1  26.8          33.3   \n",
       "13648  Hyderabad  2012-06-29     32.8     23.1  26.7          35.1   \n",
       "13649  Hyderabad  2012-06-30     32.9     23.1  27.7          34.5   \n",
       "\n",
       "       feelslikemin  humidity  windspeed  sealevelpressure  \\\n",
       "0              19.0     22.60       22.8            1002.8   \n",
       "1              16.0     27.62       12.4            1006.2   \n",
       "2              14.6     23.18       16.5            1008.8   \n",
       "3              16.9     28.00       18.3            1009.5   \n",
       "4              21.0     28.85       13.5            1007.8   \n",
       "...             ...       ...        ...               ...   \n",
       "13645          22.1     71.60       31.3            1004.7   \n",
       "13646          21.1     68.40       29.5            1004.7   \n",
       "13647          23.1     63.67       31.3            1004.7   \n",
       "13648          23.1     65.54       27.7            1004.7   \n",
       "13649          23.1     59.46       27.7            1004.7   \n",
       "\n",
       "                   conditions  \n",
       "0                       Clear  \n",
       "1                       Clear  \n",
       "2                       Clear  \n",
       "3                       Clear  \n",
       "4            Partially cloudy  \n",
       "...                       ...  \n",
       "13645  Rain, Partially cloudy  \n",
       "13646  Rain, Partially cloudy  \n",
       "13647        Partially cloudy  \n",
       "13648  Rain, Partially cloudy  \n",
       "13649        Partially cloudy  \n",
       "\n",
       "[13650 rows x 11 columns]"
      ]
     },
     "execution_count": 25,
     "metadata": {},
     "output_type": "execute_result"
    }
   ],
   "source": [
    "df"
   ]
  },
  {
   "cell_type": "code",
   "execution_count": 26,
   "id": "afc53fd6",
   "metadata": {},
   "outputs": [
    {
     "data": {
      "text/html": [
       "<div>\n",
       "<style scoped>\n",
       "    .dataframe tbody tr th:only-of-type {\n",
       "        vertical-align: middle;\n",
       "    }\n",
       "\n",
       "    .dataframe tbody tr th {\n",
       "        vertical-align: top;\n",
       "    }\n",
       "\n",
       "    .dataframe thead th {\n",
       "        text-align: right;\n",
       "    }\n",
       "</style>\n",
       "<table border=\"1\" class=\"dataframe\">\n",
       "  <thead>\n",
       "    <tr style=\"text-align: right;\">\n",
       "      <th></th>\n",
       "      <th>City</th>\n",
       "      <th>Date</th>\n",
       "      <th>tempmax</th>\n",
       "      <th>tempmin</th>\n",
       "      <th>temp</th>\n",
       "      <th>feelslikemax</th>\n",
       "      <th>feelslikemin</th>\n",
       "      <th>humidity</th>\n",
       "      <th>windspeed</th>\n",
       "      <th>sealevelpressure</th>\n",
       "      <th>conditions</th>\n",
       "    </tr>\n",
       "  </thead>\n",
       "  <tbody>\n",
       "    <tr>\n",
       "      <th>7419</th>\n",
       "      <td>Ahmedabad</td>\n",
       "      <td>2016-05-19</td>\n",
       "      <td>50.0</td>\n",
       "      <td>31.0</td>\n",
       "      <td>38.6</td>\n",
       "      <td>50.0</td>\n",
       "      <td>32.4</td>\n",
       "      <td>35.06</td>\n",
       "      <td>22.3</td>\n",
       "      <td>998.8</td>\n",
       "      <td>Clear</td>\n",
       "    </tr>\n",
       "  </tbody>\n",
       "</table>\n",
       "</div>"
      ],
      "text/plain": [
       "           City        Date  tempmax  tempmin  temp  feelslikemax  \\\n",
       "7419  Ahmedabad  2016-05-19     50.0     31.0  38.6          50.0   \n",
       "\n",
       "      feelslikemin  humidity  windspeed  sealevelpressure conditions  \n",
       "7419          32.4     35.06       22.3             998.8      Clear  "
      ]
     },
     "execution_count": 26,
     "metadata": {},
     "output_type": "execute_result"
    }
   ],
   "source": [
    "df[df['tempmax']==df['tempmax'].max()]"
   ]
  },
  {
   "cell_type": "markdown",
   "id": "451f4ce2",
   "metadata": {},
   "source": [
    "- Ahamedabad is the indian city with maximum temperature in summer with 50 digree celsius.\n",
    "- on 2016-05-19\tAhamedabad reported maximum temperature.\n",
    "- 31.0 digree celsius is the minimum temperature in there"
   ]
  },
  {
   "cell_type": "code",
   "execution_count": 70,
   "id": "7c6305bd",
   "metadata": {},
   "outputs": [
    {
     "data": {
      "text/plain": [
       "tempmax\n",
       "37.0    641\n",
       "38.0    520\n",
       "36.0    493\n",
       "35.0    470\n",
       "39.0    465\n",
       "       ... \n",
       "24.3      1\n",
       "23.8      1\n",
       "45.8      1\n",
       "27.5      1\n",
       "21.0      1\n",
       "Name: count, Length: 219, dtype: int64"
      ]
     },
     "execution_count": 70,
     "metadata": {},
     "output_type": "execute_result"
    }
   ],
   "source": [
    "df['tempmax'].value_counts()"
   ]
  },
  {
   "cell_type": "code",
   "execution_count": 74,
   "id": "affe8366",
   "metadata": {},
   "outputs": [
    {
     "data": {
      "text/plain": [
       "<Axes: xlabel='tempmax', ylabel='Count'>"
      ]
     },
     "execution_count": 74,
     "metadata": {},
     "output_type": "execute_result"
    },
    {
     "data": {
      "image/png": "[encoded data removed]",
      "text/plain": [
       "<Figure size 640x480 with 1 Axes>"
      ]
     },
     "metadata": {},
     "output_type": "display_data"
    }
   ],
   "source": [
    "sns.histplot(df['tempmax'])"
   ]
  },
  {
   "cell_type": "markdown",
   "id": "4ce623d3",
   "metadata": {},
   "source": [
    "- from the plot we can see that most of the indian cities maximum temperature are b/w 35 to 40 digree celsius.\n",
    "- 37.0 celsius is the most common maximum temperature in indian cities(641)."
   ]
  },
  {
   "cell_type": "code",
   "execution_count": 42,
   "id": "98f1db5f",
   "metadata": {},
   "outputs": [
    {
     "data": {
      "text/html": [
       "<div>\n",
       "<style scoped>\n",
       "    .dataframe tbody tr th:only-of-type {\n",
       "        vertical-align: middle;\n",
       "    }\n",
       "\n",
       "    .dataframe tbody tr th {\n",
       "        vertical-align: top;\n",
       "    }\n",
       "\n",
       "    .dataframe thead th {\n",
       "        text-align: right;\n",
       "    }\n",
       "</style>\n",
       "<table border=\"1\" class=\"dataframe\">\n",
       "  <thead>\n",
       "    <tr style=\"text-align: right;\">\n",
       "      <th></th>\n",
       "      <th>City</th>\n",
       "      <th>Date</th>\n",
       "      <th>tempmax</th>\n",
       "      <th>tempmin</th>\n",
       "      <th>temp</th>\n",
       "      <th>feelslikemax</th>\n",
       "      <th>feelslikemin</th>\n",
       "      <th>humidity</th>\n",
       "      <th>windspeed</th>\n",
       "      <th>sealevelpressure</th>\n",
       "      <th>conditions</th>\n",
       "    </tr>\n",
       "  </thead>\n",
       "  <tbody>\n",
       "    <tr>\n",
       "      <th>6964</th>\n",
       "      <td>Jaipur</td>\n",
       "      <td>2016-05-19</td>\n",
       "      <td>46.0</td>\n",
       "      <td>31.0</td>\n",
       "      <td>40.5</td>\n",
       "      <td>46.0</td>\n",
       "      <td>29.9</td>\n",
       "      <td>13.86</td>\n",
       "      <td>14.8</td>\n",
       "      <td>995.9</td>\n",
       "      <td>Clear</td>\n",
       "    </tr>\n",
       "  </tbody>\n",
       "</table>\n",
       "</div>"
      ],
      "text/plain": [
       "        City        Date  tempmax  tempmin  temp  feelslikemax  feelslikemin  \\\n",
       "6964  Jaipur  2016-05-19     46.0     31.0  40.5          46.0          29.9   \n",
       "\n",
       "      humidity  windspeed  sealevelpressure conditions  \n",
       "6964     13.86       14.8             995.9      Clear  "
      ]
     },
     "execution_count": 42,
     "metadata": {},
     "output_type": "execute_result"
    }
   ],
   "source": [
    "df[df['temp']==df['temp'].max()]"
   ]
  },
  {
   "cell_type": "markdown",
   "id": "29967e61",
   "metadata": {},
   "source": [
    "- Jaipur is the city with maximum average temprature with 40 celsics on 2016-05-19"
   ]
  },
  {
   "cell_type": "code",
   "execution_count": 76,
   "id": "8204ed9b",
   "metadata": {},
   "outputs": [
    {
     "data": {
      "text/plain": [
       "temp\n",
       "31.1    258\n",
       "31.0    231\n",
       "31.3    224\n",
       "30.6    222\n",
       "30.5    220\n",
       "       ... \n",
       "22.2      1\n",
       "39.7      1\n",
       "20.9      1\n",
       "22.0      1\n",
       "19.9      1\n",
       "Name: count, Length: 188, dtype: int64"
      ]
     },
     "execution_count": 76,
     "metadata": {},
     "output_type": "execute_result"
    }
   ],
   "source": [
    "df['temp'].value_counts()"
   ]
  },
  {
   "cell_type": "code",
   "execution_count": 75,
   "id": "e702eb61",
   "metadata": {},
   "outputs": [
    {
     "data": {
      "text/plain": [
       "<Axes: xlabel='temp', ylabel='Count'>"
      ]
     },
     "execution_count": 75,
     "metadata": {},
     "output_type": "execute_result"
    },
    {
     "data": {
      "image/png": "[encoded data removed]",
      "text/plain": [
       "<Figure size 640x480 with 1 Axes>"
      ]
     },
     "metadata": {},
     "output_type": "display_data"
    }
   ],
   "source": [
    "sns.histplot(df['temp'])"
   ]
  },
  {
   "cell_type": "markdown",
   "id": "0a640d93",
   "metadata": {},
   "source": [
    "- from the plot the average temperature in cities are in range of 29 to 32 digree celsius.\n",
    "- 31.1 celsius is the avg temperature in most cities(258)."
   ]
  },
  {
   "cell_type": "code",
   "execution_count": 39,
   "id": "10301634",
   "metadata": {},
   "outputs": [
    {
     "data": {
      "text/html": [
       "<div>\n",
       "<style scoped>\n",
       "    .dataframe tbody tr th:only-of-type {\n",
       "        vertical-align: middle;\n",
       "    }\n",
       "\n",
       "    .dataframe tbody tr th {\n",
       "        vertical-align: top;\n",
       "    }\n",
       "\n",
       "    .dataframe thead th {\n",
       "        text-align: right;\n",
       "    }\n",
       "</style>\n",
       "<table border=\"1\" class=\"dataframe\">\n",
       "  <thead>\n",
       "    <tr style=\"text-align: right;\">\n",
       "      <th></th>\n",
       "      <th>City</th>\n",
       "      <th>Date</th>\n",
       "      <th>tempmax</th>\n",
       "      <th>tempmin</th>\n",
       "      <th>temp</th>\n",
       "      <th>feelslikemax</th>\n",
       "      <th>feelslikemin</th>\n",
       "      <th>humidity</th>\n",
       "      <th>windspeed</th>\n",
       "      <th>sealevelpressure</th>\n",
       "      <th>conditions</th>\n",
       "    </tr>\n",
       "  </thead>\n",
       "  <tbody>\n",
       "    <tr>\n",
       "      <th>12199</th>\n",
       "      <td>Jaipur</td>\n",
       "      <td>2013-04-06</td>\n",
       "      <td>19.9</td>\n",
       "      <td>19.9</td>\n",
       "      <td>19.9</td>\n",
       "      <td>19.9</td>\n",
       "      <td>19.9</td>\n",
       "      <td>45.9</td>\n",
       "      <td>0.0</td>\n",
       "      <td>1004.7</td>\n",
       "      <td>Clear</td>\n",
       "    </tr>\n",
       "  </tbody>\n",
       "</table>\n",
       "</div>"
      ],
      "text/plain": [
       "         City        Date  tempmax  tempmin  temp  feelslikemax  feelslikemin  \\\n",
       "12199  Jaipur  2013-04-06     19.9     19.9  19.9          19.9          19.9   \n",
       "\n",
       "       humidity  windspeed  sealevelpressure conditions  \n",
       "12199      45.9        0.0            1004.7      Clear  "
      ]
     },
     "execution_count": 39,
     "metadata": {},
     "output_type": "execute_result"
    }
   ],
   "source": [
    "df[df['temp']==df['temp'].min()]"
   ]
  },
  {
   "cell_type": "markdown",
   "id": "5a70a90e",
   "metadata": {},
   "source": [
    "- Jaipur is the city with minimum average temprature on 2013-04-06\t"
   ]
  },
  {
   "cell_type": "code",
   "execution_count": 43,
   "id": "47d2ede8",
   "metadata": {},
   "outputs": [],
   "source": [
    "df.drop(df[df['tempmin'] == 0].index, inplace=True)"
   ]
  },
  {
   "cell_type": "code",
   "execution_count": 44,
   "id": "945d47f6",
   "metadata": {},
   "outputs": [
    {
     "data": {
      "text/html": [
       "<div>\n",
       "<style scoped>\n",
       "    .dataframe tbody tr th:only-of-type {\n",
       "        vertical-align: middle;\n",
       "    }\n",
       "\n",
       "    .dataframe tbody tr th {\n",
       "        vertical-align: top;\n",
       "    }\n",
       "\n",
       "    .dataframe thead th {\n",
       "        text-align: right;\n",
       "    }\n",
       "</style>\n",
       "<table border=\"1\" class=\"dataframe\">\n",
       "  <thead>\n",
       "    <tr style=\"text-align: right;\">\n",
       "      <th></th>\n",
       "      <th>City</th>\n",
       "      <th>Date</th>\n",
       "      <th>tempmax</th>\n",
       "      <th>tempmin</th>\n",
       "      <th>temp</th>\n",
       "      <th>feelslikemax</th>\n",
       "      <th>feelslikemin</th>\n",
       "      <th>humidity</th>\n",
       "      <th>windspeed</th>\n",
       "      <th>sealevelpressure</th>\n",
       "      <th>conditions</th>\n",
       "    </tr>\n",
       "  </thead>\n",
       "  <tbody>\n",
       "    <tr>\n",
       "      <th>1595</th>\n",
       "      <td>Lucknow</td>\n",
       "      <td>2020-05-19</td>\n",
       "      <td>39.6</td>\n",
       "      <td>10.0</td>\n",
       "      <td>30.7</td>\n",
       "      <td>39.9</td>\n",
       "      <td>7.9</td>\n",
       "      <td>45.12</td>\n",
       "      <td>18.4</td>\n",
       "      <td>1000.3</td>\n",
       "      <td>Clear</td>\n",
       "    </tr>\n",
       "    <tr>\n",
       "      <th>1959</th>\n",
       "      <td>Kanpur</td>\n",
       "      <td>2020-05-19</td>\n",
       "      <td>40.9</td>\n",
       "      <td>10.0</td>\n",
       "      <td>30.8</td>\n",
       "      <td>39.8</td>\n",
       "      <td>7.9</td>\n",
       "      <td>44.51</td>\n",
       "      <td>18.4</td>\n",
       "      <td>1000.7</td>\n",
       "      <td>Clear</td>\n",
       "    </tr>\n",
       "  </tbody>\n",
       "</table>\n",
       "</div>"
      ],
      "text/plain": [
       "         City        Date  tempmax  tempmin  temp  feelslikemax  feelslikemin  \\\n",
       "1595  Lucknow  2020-05-19     39.6     10.0  30.7          39.9           7.9   \n",
       "1959   Kanpur  2020-05-19     40.9     10.0  30.8          39.8           7.9   \n",
       "\n",
       "      humidity  windspeed  sealevelpressure conditions  \n",
       "1595     45.12       18.4            1000.3      Clear  \n",
       "1959     44.51       18.4            1000.7      Clear  "
      ]
     },
     "execution_count": 44,
     "metadata": {},
     "output_type": "execute_result"
    }
   ],
   "source": [
    "df[df['tempmin']==df['tempmin'].min()]"
   ]
  },
  {
   "cell_type": "markdown",
   "id": "875a834d",
   "metadata": {},
   "source": [
    "- Lucknow ,kanpur are the cities with minimum temperature in summer with 10 celsius on 2020-05-19"
   ]
  },
  {
   "cell_type": "code",
   "execution_count": 46,
   "id": "a1f7dae2",
   "metadata": {},
   "outputs": [
    {
     "data": {
      "text/plain": [
       "windspeed\n",
       "22.3    1560\n",
       "18.4    1428\n",
       "14.8    1169\n",
       "11.2     762\n",
       "25.9     756\n",
       "        ... \n",
       "60.0       1\n",
       "94.8       1\n",
       "48.3       1\n",
       "32.7       1\n",
       "63.0       1\n",
       "Name: count, Length: 384, dtype: int64"
      ]
     },
     "execution_count": 46,
     "metadata": {},
     "output_type": "execute_result"
    }
   ],
   "source": [
    "df['windspeed'].value_counts()"
   ]
  },
  {
   "cell_type": "code",
   "execution_count": 66,
   "id": "fdac9aea",
   "metadata": {},
   "outputs": [
    {
     "data": {
      "text/html": [
       "<div>\n",
       "<style scoped>\n",
       "    .dataframe tbody tr th:only-of-type {\n",
       "        vertical-align: middle;\n",
       "    }\n",
       "\n",
       "    .dataframe tbody tr th {\n",
       "        vertical-align: top;\n",
       "    }\n",
       "\n",
       "    .dataframe thead th {\n",
       "        text-align: right;\n",
       "    }\n",
       "</style>\n",
       "<table border=\"1\" class=\"dataframe\">\n",
       "  <thead>\n",
       "    <tr style=\"text-align: right;\">\n",
       "      <th></th>\n",
       "      <th>City</th>\n",
       "      <th>Date</th>\n",
       "      <th>tempmax</th>\n",
       "      <th>tempmin</th>\n",
       "      <th>temp</th>\n",
       "      <th>feelslikemax</th>\n",
       "      <th>feelslikemin</th>\n",
       "      <th>humidity</th>\n",
       "      <th>windspeed</th>\n",
       "      <th>sealevelpressure</th>\n",
       "      <th>conditions</th>\n",
       "    </tr>\n",
       "  </thead>\n",
       "  <tbody>\n",
       "    <tr>\n",
       "      <th>886</th>\n",
       "      <td>Jaipur</td>\n",
       "      <td>2021-06-07</td>\n",
       "      <td>39.0</td>\n",
       "      <td>30.0</td>\n",
       "      <td>34.4</td>\n",
       "      <td>40.9</td>\n",
       "      <td>31.9</td>\n",
       "      <td>41.23</td>\n",
       "      <td>263.2</td>\n",
       "      <td>1002.8</td>\n",
       "      <td>Partially cloudy</td>\n",
       "    </tr>\n",
       "  </tbody>\n",
       "</table>\n",
       "</div>"
      ],
      "text/plain": [
       "       City        Date  tempmax  tempmin  temp  feelslikemax  feelslikemin  \\\n",
       "886  Jaipur  2021-06-07     39.0     30.0  34.4          40.9          31.9   \n",
       "\n",
       "     humidity  windspeed  sealevelpressure        conditions  \n",
       "886     41.23      263.2            1002.8  Partially cloudy  "
      ]
     },
     "execution_count": 66,
     "metadata": {},
     "output_type": "execute_result"
    }
   ],
   "source": [
    "df[df['windspeed']==df['windspeed'].max()]"
   ]
  },
  {
   "cell_type": "code",
   "execution_count": 53,
   "id": "58e377f2",
   "metadata": {},
   "outputs": [
    {
     "data": {
      "text/plain": [
       "<Axes: xlabel='windspeed'>"
      ]
     },
     "execution_count": 53,
     "metadata": {},
     "output_type": "execute_result"
    },
    {
     "data": {
      "image/png": "[encoded data removed]",
      "text/plain": [
       "<Figure size 1500x600 with 1 Axes>"
      ]
     },
     "metadata": {},
     "output_type": "display_data"
    }
   ],
   "source": [
    "df['windspeed'].value_counts().plot.bar(figsize=(15,6))"
   ]
  },
  {
   "cell_type": "code",
   "execution_count": 68,
   "id": "3d3e848d",
   "metadata": {},
   "outputs": [
    {
     "data": {
      "text/plain": [
       "<Axes: xlabel='windspeed', ylabel='Count'>"
      ]
     },
     "execution_count": 68,
     "metadata": {},
     "output_type": "execute_result"
    },
    {
     "data": {
      "image/png": "[encoded data removed]",
      "text/plain": [
       "<Figure size 640x480 with 1 Axes>"
      ]
     },
     "metadata": {},
     "output_type": "display_data"
    }
   ],
   "source": [
    "sns.histplot(df['windspeed'],kde=True)"
   ]
  },
  {
   "cell_type": "markdown",
   "id": "a67ec6c9",
   "metadata": {},
   "source": [
    "- The wind speed in most city is 22.3\n",
    "- jaypur is the place with maximum wind speed (263.2)."
   ]
  },
  {
   "cell_type": "code",
   "execution_count": 78,
   "id": "b4c51f7f",
   "metadata": {},
   "outputs": [
    {
     "data": {
      "text/html": [
       "<div>\n",
       "<style scoped>\n",
       "    .dataframe tbody tr th:only-of-type {\n",
       "        vertical-align: middle;\n",
       "    }\n",
       "\n",
       "    .dataframe tbody tr th {\n",
       "        vertical-align: top;\n",
       "    }\n",
       "\n",
       "    .dataframe thead th {\n",
       "        text-align: right;\n",
       "    }\n",
       "</style>\n",
       "<table border=\"1\" class=\"dataframe\">\n",
       "  <thead>\n",
       "    <tr style=\"text-align: right;\">\n",
       "      <th></th>\n",
       "      <th>City</th>\n",
       "      <th>Date</th>\n",
       "      <th>tempmax</th>\n",
       "      <th>tempmin</th>\n",
       "      <th>temp</th>\n",
       "      <th>feelslikemax</th>\n",
       "      <th>feelslikemin</th>\n",
       "      <th>humidity</th>\n",
       "      <th>windspeed</th>\n",
       "      <th>sealevelpressure</th>\n",
       "      <th>conditions</th>\n",
       "    </tr>\n",
       "  </thead>\n",
       "  <tbody>\n",
       "    <tr>\n",
       "      <th>1702</th>\n",
       "      <td>Bhopal</td>\n",
       "      <td>2020-06-04</td>\n",
       "      <td>23.0</td>\n",
       "      <td>20.0</td>\n",
       "      <td>21.7</td>\n",
       "      <td>23.0</td>\n",
       "      <td>20.0</td>\n",
       "      <td>99.04</td>\n",
       "      <td>39.9</td>\n",
       "      <td>1001.7</td>\n",
       "      <td>Partially cloudy</td>\n",
       "    </tr>\n",
       "  </tbody>\n",
       "</table>\n",
       "</div>"
      ],
      "text/plain": [
       "        City        Date  tempmax  tempmin  temp  feelslikemax  feelslikemin  \\\n",
       "1702  Bhopal  2020-06-04     23.0     20.0  21.7          23.0          20.0   \n",
       "\n",
       "      humidity  windspeed  sealevelpressure        conditions  \n",
       "1702     99.04       39.9            1001.7  Partially cloudy  "
      ]
     },
     "execution_count": 78,
     "metadata": {},
     "output_type": "execute_result"
    }
   ],
   "source": [
    "df[df['humidity']==df['humidity'].max()]"
   ]
  },
  {
   "cell_type": "code",
   "execution_count": 80,
   "id": "393e3788",
   "metadata": {},
   "outputs": [
    {
     "data": {
      "text/html": [
       "<div>\n",
       "<style scoped>\n",
       "    .dataframe tbody tr th:only-of-type {\n",
       "        vertical-align: middle;\n",
       "    }\n",
       "\n",
       "    .dataframe tbody tr th {\n",
       "        vertical-align: top;\n",
       "    }\n",
       "\n",
       "    .dataframe thead th {\n",
       "        text-align: right;\n",
       "    }\n",
       "</style>\n",
       "<table border=\"1\" class=\"dataframe\">\n",
       "  <thead>\n",
       "    <tr style=\"text-align: right;\">\n",
       "      <th></th>\n",
       "      <th>City</th>\n",
       "      <th>Date</th>\n",
       "      <th>tempmax</th>\n",
       "      <th>tempmin</th>\n",
       "      <th>temp</th>\n",
       "      <th>feelslikemax</th>\n",
       "      <th>feelslikemin</th>\n",
       "      <th>humidity</th>\n",
       "      <th>windspeed</th>\n",
       "      <th>sealevelpressure</th>\n",
       "      <th>conditions</th>\n",
       "    </tr>\n",
       "  </thead>\n",
       "  <tbody>\n",
       "    <tr>\n",
       "      <th>6939</th>\n",
       "      <td>Jaipur</td>\n",
       "      <td>2016-04-24</td>\n",
       "      <td>38.0</td>\n",
       "      <td>24.0</td>\n",
       "      <td>32.5</td>\n",
       "      <td>34.7</td>\n",
       "      <td>24.0</td>\n",
       "      <td>7.41</td>\n",
       "      <td>12.0</td>\n",
       "      <td>1002.0</td>\n",
       "      <td>Partially cloudy</td>\n",
       "    </tr>\n",
       "  </tbody>\n",
       "</table>\n",
       "</div>"
      ],
      "text/plain": [
       "        City        Date  tempmax  tempmin  temp  feelslikemax  feelslikemin  \\\n",
       "6939  Jaipur  2016-04-24     38.0     24.0  32.5          34.7          24.0   \n",
       "\n",
       "      humidity  windspeed  sealevelpressure        conditions  \n",
       "6939      7.41       12.0            1002.0  Partially cloudy  "
      ]
     },
     "execution_count": 80,
     "metadata": {},
     "output_type": "execute_result"
    }
   ],
   "source": [
    "df[df['humidity']==df['humidity'].min()]"
   ]
  },
  {
   "cell_type": "markdown",
   "id": "58ccf8fb",
   "metadata": {},
   "source": [
    "- Bopal is the city with highest humidity(99.04) reported.Where the avg temperature is very less and that is 21.7 celsius\n",
    "- Jaipur reported lowest humidity with 7.41"
   ]
  },
  {
   "cell_type": "code",
   "execution_count": 79,
   "id": "996397e0",
   "metadata": {},
   "outputs": [
    {
     "data": {
      "text/plain": [
       "humidity\n",
       "56.12    40\n",
       "72.16    10\n",
       "43.79    10\n",
       "72.96     9\n",
       "68.39     9\n",
       "         ..\n",
       "17.51     1\n",
       "18.56     1\n",
       "18.90     1\n",
       "16.14     1\n",
       "53.33     1\n",
       "Name: count, Length: 6100, dtype: int64"
      ]
     },
     "execution_count": 79,
     "metadata": {},
     "output_type": "execute_result"
    }
   ],
   "source": [
    "df['humidity'].value_counts()"
   ]
  },
  {
   "cell_type": "code",
   "execution_count": 85,
   "id": "a6e3fc5e",
   "metadata": {},
   "outputs": [],
   "source": [
    "hu=df['humidity'].unique()\n",
    "te=df['temp'].unique()"
   ]
  },
  {
   "cell_type": "code",
   "execution_count": 89,
   "id": "293b7450",
   "metadata": {},
   "outputs": [
    {
     "data": {
      "text/plain": [
       "<Axes: xlabel='humidity', ylabel='temp'>"
      ]
     },
     "execution_count": 89,
     "metadata": {},
     "output_type": "execute_result"
    },
    {
     "data": {
      "image/png": "[encoded data removed]",
      "text/plain": [
       "<Figure size 640x480 with 1 Axes>"
      ]
     },
     "metadata": {},
     "output_type": "display_data"
    }
   ],
   "source": [
    "sns.lineplot(x=df['humidity'],y=df['temp'])\n",
    "            "
   ]
  },
  {
   "cell_type": "markdown",
   "id": "11f613c3",
   "metadata": {},
   "source": [
    "- Humidity slightly depends the teperature.\n",
    "- humidity increses with temperature decreses\n",
    "- 56.12 is the most common humidity in cities"
   ]
  },
  {
   "cell_type": "code",
   "execution_count": 97,
   "id": "016f4c5a",
   "metadata": {},
   "outputs": [
    {
     "data": {
      "image/png": "[encoded data removed]",
      "text/plain": [
       "<Figure size 1000x600 with 1 Axes>"
      ]
     },
     "metadata": {},
     "output_type": "display_data"
    }
   ],
   "source": [
    "df['Date'] = pd.to_datetime(df['Date'])\n",
    "df['Year'] = df['Date'].dt.year\n",
    "\n",
    "plt.figure(figsize=(10, 6))\n",
    "plt.plot(df['Date'], df['tempmax'], label='Maximum Temperature', color='red')\n",
    "plt.plot(df['Date'], df['tempmin'], label='Minimum Temperature', color='blue')\n",
    "\n",
    "plt.xlabel('Date')\n",
    "plt.ylabel('Temperature (°C)')\n",
    "plt.title('Temperature over Years')\n",
    "plt.legend()\n",
    "plt.xticks(rotation=45)\n",
    "plt.tight_layout()\n",
    "plt.grid(True)\n",
    "plt.show()"
   ]
  },
  {
   "cell_type": "markdown",
   "id": "3824f40b",
   "metadata": {},
   "source": [
    "- There are some long-term trends in temperature variation ,that maybe seasonal variation. \n",
    "- The temperatures increasing, decreasing over years.\n",
    "- There is some fluctuations in maximum and minimum temperatures.\n",
    "- outliers in temperature readings means extreme weather events."
   ]
  },
  {
   "cell_type": "code",
   "execution_count": 105,
   "id": "244b3ed3",
   "metadata": {},
   "outputs": [
    {
     "data": {
      "text/html": [
       "<div>\n",
       "<style scoped>\n",
       "    .dataframe tbody tr th:only-of-type {\n",
       "        vertical-align: middle;\n",
       "    }\n",
       "\n",
       "    .dataframe tbody tr th {\n",
       "        vertical-align: top;\n",
       "    }\n",
       "\n",
       "    .dataframe thead th {\n",
       "        text-align: right;\n",
       "    }\n",
       "</style>\n",
       "<table border=\"1\" class=\"dataframe\">\n",
       "  <thead>\n",
       "    <tr style=\"text-align: right;\">\n",
       "      <th></th>\n",
       "      <th>tempmax</th>\n",
       "      <th>tempmin</th>\n",
       "      <th>temp</th>\n",
       "      <th>feelslikemax</th>\n",
       "      <th>feelslikemin</th>\n",
       "      <th>humidity</th>\n",
       "      <th>windspeed</th>\n",
       "      <th>sealevelpressure</th>\n",
       "      <th>Year</th>\n",
       "    </tr>\n",
       "  </thead>\n",
       "  <tbody>\n",
       "    <tr>\n",
       "      <th>tempmax</th>\n",
       "      <td>1.000000</td>\n",
       "      <td>0.409233</td>\n",
       "      <td>0.889695</td>\n",
       "      <td>0.541077</td>\n",
       "      <td>0.262715</td>\n",
       "      <td>-0.723509</td>\n",
       "      <td>0.010222</td>\n",
       "      <td>-0.224753</td>\n",
       "      <td>-0.071426</td>\n",
       "    </tr>\n",
       "    <tr>\n",
       "      <th>tempmin</th>\n",
       "      <td>0.409233</td>\n",
       "      <td>1.000000</td>\n",
       "      <td>0.713361</td>\n",
       "      <td>0.652190</td>\n",
       "      <td>0.917466</td>\n",
       "      <td>-0.033173</td>\n",
       "      <td>0.077957</td>\n",
       "      <td>-0.351818</td>\n",
       "      <td>-0.072877</td>\n",
       "    </tr>\n",
       "    <tr>\n",
       "      <th>temp</th>\n",
       "      <td>0.889695</td>\n",
       "      <td>0.713361</td>\n",
       "      <td>1.000000</td>\n",
       "      <td>0.653402</td>\n",
       "      <td>0.567241</td>\n",
       "      <td>-0.589719</td>\n",
       "      <td>0.046103</td>\n",
       "      <td>-0.327635</td>\n",
       "      <td>-0.090313</td>\n",
       "    </tr>\n",
       "    <tr>\n",
       "      <th>feelslikemax</th>\n",
       "      <td>0.541077</td>\n",
       "      <td>0.652190</td>\n",
       "      <td>0.653402</td>\n",
       "      <td>1.000000</td>\n",
       "      <td>0.691142</td>\n",
       "      <td>0.083378</td>\n",
       "      <td>0.023011</td>\n",
       "      <td>-0.348128</td>\n",
       "      <td>0.016176</td>\n",
       "    </tr>\n",
       "    <tr>\n",
       "      <th>feelslikemin</th>\n",
       "      <td>0.262715</td>\n",
       "      <td>0.917466</td>\n",
       "      <td>0.567241</td>\n",
       "      <td>0.691142</td>\n",
       "      <td>1.000000</td>\n",
       "      <td>0.163850</td>\n",
       "      <td>0.046623</td>\n",
       "      <td>-0.275321</td>\n",
       "      <td>-0.051987</td>\n",
       "    </tr>\n",
       "    <tr>\n",
       "      <th>humidity</th>\n",
       "      <td>-0.723509</td>\n",
       "      <td>-0.033173</td>\n",
       "      <td>-0.589719</td>\n",
       "      <td>0.083378</td>\n",
       "      <td>0.163850</td>\n",
       "      <td>1.000000</td>\n",
       "      <td>-0.026187</td>\n",
       "      <td>0.004296</td>\n",
       "      <td>0.102530</td>\n",
       "    </tr>\n",
       "    <tr>\n",
       "      <th>windspeed</th>\n",
       "      <td>0.010222</td>\n",
       "      <td>0.077957</td>\n",
       "      <td>0.046103</td>\n",
       "      <td>0.023011</td>\n",
       "      <td>0.046623</td>\n",
       "      <td>-0.026187</td>\n",
       "      <td>1.000000</td>\n",
       "      <td>-0.153573</td>\n",
       "      <td>-0.063826</td>\n",
       "    </tr>\n",
       "    <tr>\n",
       "      <th>sealevelpressure</th>\n",
       "      <td>-0.224753</td>\n",
       "      <td>-0.351818</td>\n",
       "      <td>-0.327635</td>\n",
       "      <td>-0.348128</td>\n",
       "      <td>-0.275321</td>\n",
       "      <td>0.004296</td>\n",
       "      <td>-0.153573</td>\n",
       "      <td>1.000000</td>\n",
       "      <td>0.144875</td>\n",
       "    </tr>\n",
       "    <tr>\n",
       "      <th>Year</th>\n",
       "      <td>-0.071426</td>\n",
       "      <td>-0.072877</td>\n",
       "      <td>-0.090313</td>\n",
       "      <td>0.016176</td>\n",
       "      <td>-0.051987</td>\n",
       "      <td>0.102530</td>\n",
       "      <td>-0.063826</td>\n",
       "      <td>0.144875</td>\n",
       "      <td>1.000000</td>\n",
       "    </tr>\n",
       "  </tbody>\n",
       "</table>\n",
       "</div>"
      ],
      "text/plain": [
       "                   tempmax   tempmin      temp  feelslikemax  feelslikemin  \\\n",
       "tempmax           1.000000  0.409233  0.889695      0.541077      0.262715   \n",
       "tempmin           0.409233  1.000000  0.713361      0.652190      0.917466   \n",
       "temp              0.889695  0.713361  1.000000      0.653402      0.567241   \n",
       "feelslikemax      0.541077  0.652190  0.653402      1.000000      0.691142   \n",
       "feelslikemin      0.262715  0.917466  0.567241      0.691142      1.000000   \n",
       "humidity         -0.723509 -0.033173 -0.589719      0.083378      0.163850   \n",
       "windspeed         0.010222  0.077957  0.046103      0.023011      0.046623   \n",
       "sealevelpressure -0.224753 -0.351818 -0.327635     -0.348128     -0.275321   \n",
       "Year             -0.071426 -0.072877 -0.090313      0.016176     -0.051987   \n",
       "\n",
       "                  humidity  windspeed  sealevelpressure      Year  \n",
       "tempmax          -0.723509   0.010222         -0.224753 -0.071426  \n",
       "tempmin          -0.033173   0.077957         -0.351818 -0.072877  \n",
       "temp             -0.589719   0.046103         -0.327635 -0.090313  \n",
       "feelslikemax      0.083378   0.023011         -0.348128  0.016176  \n",
       "feelslikemin      0.163850   0.046623         -0.275321 -0.051987  \n",
       "humidity          1.000000  -0.026187          0.004296  0.102530  \n",
       "windspeed        -0.026187   1.000000         -0.153573 -0.063826  \n",
       "sealevelpressure  0.004296  -0.153573          1.000000  0.144875  \n",
       "Year              0.102530  -0.063826          0.144875  1.000000  "
      ]
     },
     "execution_count": 105,
     "metadata": {},
     "output_type": "execute_result"
    }
   ],
   "source": [
    "df.corr(numeric_only=True)"
   ]
  },
  {
   "cell_type": "markdown",
   "id": "97035da7",
   "metadata": {},
   "source": [
    "- sealevelpressure have negative weak correlation with temperature.\n",
    "- Thre is no other correlation is seems b/w different catagories"
   ]
  },
  {
   "cell_type": "markdown",
   "id": "325a7c81",
   "metadata": {},
   "source": [
    "# Conclusion"
   ]
  },
  {
   "cell_type": "markdown",
   "id": "e09efba7",
   "metadata": {},
   "source": [
    "- **Temperature Trends**: The analysis of temperature data from Indian cities over the years indicates significant variation. Maximum and minimum temperatures show seasonal fluctuations, with some long-term trends observed. Outliers in temperature readings suggest occurrences of extreme weather events.\n",
    "\n",
    "- **Maximum Temperature**: Ahmedabad reported the highest maximum temperature in summer, reaching 50°C on May 19, 2016. Most Indian cities experience maximum temperatures between 35 to 40°C, with 37°C being the most common.\n",
    "\n",
    "- **Average Temperature**: Jaipur recorded the highest average temperature of 40°C on May 19, 2016. The average temperatures across cities generally range from 29 to 32°C, with 31.1°C being the most common.\n",
    "\n",
    "- **Minimum Temperature**: Jaipur also reported the lowest minimum average temperature on April 6, 2013. Lucknow and Kanpur recorded the lowest temperatures of 10°C on May 19, 2020.\n",
    "\n",
    "- **Wind Speed**: The wind speed in most cities averages around 22.3 km/h. Jaipur recorded the highest wind speed of 263.2 km/h.\n",
    "\n",
    "- **Humidity**: Bopal reported the highest humidity of 99.04%, while Jaipur recorded the lowest at 7.41%. Humidity tends to increase as temperature decreases.\n",
    "\n",
    "- **Temperature and Humidity**: There's a slight negative correlation between sea level pressure and temperature. However, no significant correlation is observed between other weather parameters.\n",
    "\n"
   ]
  }
 ],
 "metadata": {
  "kernelspec": {
   "display_name": "Python 3 (ipykernel)",
   "language": "python",
   "name": "python3"
  },
  "language_info": {
   "codemirror_mode": {
    "name": "ipython",
    "version": 3
   },
   "file_extension": ".py",
   "mimetype": "text/x-python",
   "name": "python",
   "nbconvert_exporter": "python",
   "pygments_lexer": "ipython3",
   "version": "3.11.5"
  }
 },
 "nbformat": 4,
 "nbformat_minor": 5
}
